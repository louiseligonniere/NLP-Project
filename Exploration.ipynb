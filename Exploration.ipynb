{
 "cells": [
  {
   "cell_type": "code",
   "execution_count": null,
   "id": "c59519b3",
   "metadata": {},
   "outputs": [
    {
     "name": "stdout",
     "output_type": "stream",
     "text": [
      "Collecting fasttext\n",
      "  Downloading fasttext-0.9.3.tar.gz (73 kB)\n",
      "  Installing build dependencies ... \u001b[?25ldone\n",
      "\u001b[?25h  Getting requirements to build wheel ... \u001b[?25ldone\n",
      "\u001b[?25h  Preparing metadata (pyproject.toml) ... \u001b[?25ldone\n",
      "\u001b[?25hCollecting pybind11>=2.2 (from fasttext)\n",
      "  Using cached pybind11-2.13.6-py3-none-any.whl.metadata (9.5 kB)\n",
      "Requirement already satisfied: setuptools>=0.7.0 in /opt/conda/lib/python3.12/site-packages (from fasttext) (75.8.2)\n",
      "Requirement already satisfied: numpy in /opt/conda/lib/python3.12/site-packages (from fasttext) (2.2.4)\n",
      "Using cached pybind11-2.13.6-py3-none-any.whl (243 kB)\n",
      "Building wheels for collected packages: fasttext\n",
      "  Building wheel for fasttext (pyproject.toml) ... \u001b[?25ldone\n",
      "\u001b[?25h  Created wheel for fasttext: filename=fasttext-0.9.3-cp312-cp312-linux_x86_64.whl size=326817 sha256=904111c5a6638ec51a98928c5ea59ba8286b89961091895f2dd022a77572a497\n",
      "  Stored in directory: /home/onyxia/.cache/pip/wheels/20/27/95/a7baf1b435f1cbde017cabdf1e9688526d2b0e929255a359c6\n",
      "Successfully built fasttext\n",
      "Installing collected packages: pybind11, fasttext\n",
      "Successfully installed fasttext-0.9.3 pybind11-2.13.6\n",
      "Note: you may need to restart the kernel to use updated packages.\n"
     ]
    }
   ],
   "source": [
    "# Requirements\n",
    "! pip install fasttext\n",
    "! pip install huggingface_hub\n",
    "! pip install \"numpy<2.0\"\n",
    "! pip install datasets\n",
    "! pip install gcld3\n",
    "! pip install GlotScript"
   ]
  },
  {
   "cell_type": "markdown",
   "id": "d324bc45",
   "metadata": {},
   "source": [
    "## 1. GlotLID-M on UDHR"
   ]
  },
  {
   "cell_type": "code",
   "execution_count": null,
   "id": "de89a59b",
   "metadata": {},
   "outputs": [],
   "source": [
    "# Imports\n",
    "import fasttext\n",
    "from huggingface_hub import hf_hub_download\n",
    "from datasets import load_dataset\n",
    "import pandas as pd\n",
    "from metrics import compute_f1_false_positive"
   ]
  },
  {
   "cell_type": "code",
   "execution_count": null,
   "id": "3400fc7d",
   "metadata": {},
   "outputs": [
    {
     "name": "stdout",
     "output_type": "stream",
     "text": [
      "model path: /home/onyxia/.cache/huggingface/hub/models--cis-lmu--glotlid/snapshots/74cb50b709c9eefe0f790030c6c95c461b4e3b77/model.bin\n"
     ]
    }
   ],
   "source": [
    "# Load the model\n",
    "# cache_dir is the path to the folder where the downloaded model will be stored/cached.\n",
    "model_path = hf_hub_download(repo_id=\"cis-lmu/glotlid\", filename=\"model.bin\", cache_dir=None)\n",
    "print(\"model path:\", model_path)\n",
    "\n",
    "# load the model\n",
    "glotlid_m = fasttext.load_model(model_path)"
   ]
  },
  {
   "cell_type": "code",
   "execution_count": null,
   "id": "7421c301",
   "metadata": {},
   "outputs": [
    {
     "data": {
      "text/plain": [
       "(('__label__eng_Latn',), array([0.99637443]))"
      ]
     },
     "execution_count": 5,
     "metadata": {},
     "output_type": "execute_result"
    }
   ],
   "source": [
    "# First test\n",
    "\"\"\"Language Identification\"\"\"\n",
    "# predict language label (call this function as many times as needed)\n",
    "glotlid_m.predict(\"Hello, world!\")\n",
    "# (('__label__eng_Latn',), array([0.99850202]))"
   ]
  },
  {
   "cell_type": "code",
   "execution_count": 114,
   "id": "c712afc2",
   "metadata": {},
   "outputs": [
    {
     "name": "stdout",
     "output_type": "stream",
     "text": [
      "{'id': 'tir_Ethi', 'sentence': 'ሕድሕድ ኦብ ስራሕ ዝርከብ ሰብ ሰብኦዊ ክብሩን ክብሪ ቤተሰቡን ዝሕለወሉ ኦድላዪ እንተኾይኑ’ውን ብካልኦት ማሕበራዊ ውሕስነታት ዝድገፍ ፍትሓውን ዘተባብዕን ፃማ ሪሃፁ ናይ ምርካብ መሰል ኦለዎ፡፡', 'iso639-3': 'tir', 'iso15924': 'Ethi', 'language': 'Tigrinya'}\n"
     ]
    }
   ],
   "source": [
    "# Load test dataset 1 : UDHR - clean version for LID\n",
    "udhr = load_dataset('cis-lmu/udhr-lid', split='test')\n",
    "print(udhr[0])\n",
    "udhr = pd.DataFrame(udhr)\n",
    "udhr = udhr.rename(columns={'id': 'iso_script'})"
   ]
  },
  {
   "cell_type": "code",
   "execution_count": null,
   "id": "a4f231c0",
   "metadata": {},
   "outputs": [
    {
     "name": "stdout",
     "output_type": "stream",
     "text": [
      "         id                                           sentence iso639-3  \\\n",
      "0  tir_Ethi  ሕድሕድ ኦብ ስራሕ ዝርከብ ሰብ ሰብኦዊ ክብሩን ክብሪ ቤተሰቡን ዝሕለወሉ ...      tir   \n",
      "1  tir_Ethi  ሕድሕድ ሰብ ከቢድ ስቓይ ዘውርድ፣ ጭካነ ዝመልኦ፣ ኢሰብኦዊ ወይ ሰብኦዊ ...      tir   \n",
      "2  tir_Ethi  ሕድሕድ ሰብ መሰሉን ግቡእን፣ ከምኡ’ውን ንዝቐርበሉ ዝኾነ ይኹን ገበናዊ ...      tir   \n",
      "3  tir_Ethi  ንዓቕመ ኦዳምን ሄዋንን ዝበፅሑ ደቂ ተባዕትዮን ደቂ ኦንስትዮን ዘርኢ፣ ዜ...      tir   \n",
      "4  tir_Ethi                       ሕድሕድ ሰብ ብማሕበር ንኽውደብ ኦይግደድን፡፡      tir   \n",
      "\n",
      "  iso15924  language  top_pred  \n",
      "0     Ethi  Tigrinya  tir_Ethi  \n",
      "1     Ethi  Tigrinya  tir_Ethi  \n",
      "2     Ethi  Tigrinya  tir_Ethi  \n",
      "3     Ethi  Tigrinya  tir_Ethi  \n",
      "4     Ethi  Tigrinya  tir_Ethi  \n"
     ]
    }
   ],
   "source": [
    "# Apply the model to predict labels\n",
    "udhr_glotlid_pred = udhr\n",
    "udhr_glotlid_pred['top_pred'] = udhr_glotlid_pred['sentence'].apply(lambda x: glotlid_m.predict(x)[0][0].replace(\"__label__\", \"\"))\n",
    "print(udhr_glotlid_pred.head())"
   ]
  },
  {
   "cell_type": "code",
   "execution_count": null,
   "id": "3b66c556",
   "metadata": {},
   "outputs": [
    {
     "name": "stdout",
     "output_type": "stream",
     "text": [
      "Result DataFrame:\n",
      "        label  f1_score  precision_score  recall_score  false_positive_rate\n",
      "0    pnb_Arab  0.748466         0.598039      1.000000             0.001480\n",
      "1    ido_Latn  1.000000         1.000000      1.000000             0.000000\n",
      "2    hnj_Latn  0.000000         0.000000      0.000000             0.000000\n",
      "3    pap_Latn  0.943089         0.892308      1.000000             0.000253\n",
      "4    kan_Knda  1.000000         1.000000      1.000000             0.000000\n",
      "..        ...       ...              ...           ...                  ...\n",
      "963  fub_Latn  0.000000         0.000000      0.000000             0.000252\n",
      "964  kng_Latn  0.191617         0.307692      0.139130             0.001302\n",
      "965  kab_Latn  0.957983         0.934426      0.982759             0.000144\n",
      "966  nso_Latn  1.000000         1.000000      1.000000             0.000000\n",
      "967  mcu_Latn  0.000000         0.000000      0.000000             0.000036\n",
      "\n",
      "[968 rows x 5 columns]\n"
     ]
    },
    {
     "name": "stderr",
     "output_type": "stream",
     "text": [
      "/opt/conda/lib/python3.12/site-packages/sklearn/metrics/_classification.py:1565: UndefinedMetricWarning: Precision is ill-defined and being set to 0.0 in labels with no predicted samples. Use `zero_division` parameter to control this behavior.\n",
      "  _warn_prf(average, modifier, f\"{metric.capitalize()} is\", len(result))\n",
      "/opt/conda/lib/python3.12/site-packages/sklearn/metrics/_classification.py:1565: UndefinedMetricWarning: Recall is ill-defined and being set to 0.0 in labels with no true samples. Use `zero_division` parameter to control this behavior.\n",
      "  _warn_prf(average, modifier, f\"{metric.capitalize()} is\", len(result))\n"
     ]
    }
   ],
   "source": [
    "# Compute F1 and false positive rate\n",
    "result_udhr_glotlid = compute_f1_false_positive(udhr_glotlid_pred)\n",
    "\n",
    "print(\"Result DataFrame:\")\n",
    "print(result_udhr_glotlid)"
   ]
  },
  {
   "cell_type": "code",
   "execution_count": null,
   "id": "64d3fb00",
   "metadata": {},
   "outputs": [
    {
     "name": "stdout",
     "output_type": "stream",
     "text": [
      "Averaged result DataFrame:\n",
      "f1_score               0.325932\n",
      "precision_score        0.335005\n",
      "recall_score           0.331207\n",
      "false_positive_rate    0.000266\n",
      "dtype: float64\n",
      "Averaged result DataFrame on lines with f1_score>0:\n",
      "f1_score               0.904019\n",
      "precision_score        0.929182\n",
      "recall_score           0.918648\n",
      "false_positive_rate    0.000233\n",
      "dtype: float64\n"
     ]
    }
   ],
   "source": [
    "# Compute average results\n",
    "average_udhr_glotlid = result_udhr_glotlid.drop(columns=['label']).mean()\n",
    "print(\"Averaged result DataFrame:\")\n",
    "print(average_udhr_glotlid)"
   ]
  },
  {
   "cell_type": "code",
   "execution_count": null,
   "id": "60500f8d",
   "metadata": {},
   "outputs": [
    {
     "name": "stdout",
     "output_type": "stream",
     "text": [
      "['aai_Latn', 'aak_Latn', 'aau_Latn', 'aaz_Latn', 'aba_Latn', 'abi_Latn', 'abk_Cyrl', 'abn_Latn', 'abq_Cyrl', 'abs_Latn', 'abt_Latn', 'abx_Latn', 'aby_Latn', 'abz_Latn', 'aca_Latn', 'acd_Latn', 'ace_Arab', 'ace_Latn', 'acf_Latn', 'ach_Latn', 'acm_Arab', 'acn_Latn', 'acr_Latn', 'acu_Latn', 'ada_Latn', 'ade_Latn', 'adh_Latn', 'adi_Latn', 'adj_Latn', 'adl_Latn', 'ady_Cyrl', 'adz_Latn', 'aeb_Arab', 'aer_Latn', 'aeu_Latn', 'aey_Latn', 'afr_Latn', 'agd_Latn', 'agg_Latn', 'agm_Latn', 'agn_Latn', 'agr_Latn', 'agt_Latn', 'agu_Latn', 'agw_Latn', 'agx_Cyrl', 'aha_Latn', 'ahk_Latn', 'aia_Latn', 'aii_Syrc', 'aim_Latn', 'ain_Latn', 'ajg_Latn', 'aji_Latn', 'ajp_Arab', 'ajz_Latn', 'akb_Latn', 'ake_Latn', 'akh_Latn', 'akp_Latn', 'ald_Latn', 'alj_Latn', 'aln_Latn', 'alp_Latn', 'alq_Latn', 'als_Latn', 'alt_Cyrl', 'aly_Latn', 'alz_Latn', 'ame_Latn', 'amf_Latn', 'amh_Ethi', 'ami_Latn', 'amk_Latn', 'amm_Latn', 'amn_Latn', 'amp_Latn', 'amr_Latn', 'amu_Latn', 'amx_Latn', 'ang_Latn', 'anm_Latn', 'ann_Latn', 'anp_Deva', 'anv_Latn', 'any_Latn', 'aoi_Latn', 'aoj_Latn', 'aom_Latn', 'aoz_Latn', 'apb_Latn', 'apc_Arab', 'ape_Latn', 'apn_Latn', 'apr_Latn', 'apt_Latn', 'apu_Latn', 'apw_Latn', 'apy_Latn', 'apz_Latn', 'aqz_Latn', 'arb_Arab', 'arb_Latn', 'are_Latn', 'arg_Latn', 'arl_Latn', 'arn_Latn', 'arp_Latn', 'arq_Arab', 'arr_Latn', 'ars_Arab', 'ary_Arab', 'arz_Arab', 'asg_Latn', 'asm_Beng', 'asm_Latn', 'aso_Latn', 'ast_Latn', 'ata_Latn', 'atb_Latn', 'atd_Latn', 'atg_Latn', 'ati_Latn', 'atj_Latn', 'atq_Latn', 'att_Latn', 'auc_Latn', 'aui_Latn', 'auy_Latn', 'ava_Cyrl', 'avk_Latn', 'avn_Latn', 'avt_Latn', 'avu_Latn', 'awa_Deva', 'awb_Latn', 'awi_Latn', 'awx_Latn', 'ayo_Latn', 'ayp_Arab', 'ayr_Latn', 'azb_Arab', 'azg_Latn', 'azj_Cyrl', 'azj_Latn', 'azz_Latn', 'bak_Cyrl', 'bam_Latn', 'ban_Latn', 'bao_Latn', 'bar_Latn', 'bas_Latn', 'bav_Latn', 'bba_Latn', 'bbb_Latn', 'bbc_Latn', 'bbj_Latn', 'bbk_Latn', 'bbo_Latn', 'bbr_Latn', 'bcc_Arab', 'bch_Latn', 'bci_Latn', 'bcl_Latn', 'bco_Latn', 'bcw_Latn', 'bdd_Latn', 'bdh_Latn', 'bdq_Latn', 'bea_Latn', 'bef_Latn', 'bel_Cyrl', 'bem_Latn', 'ben_Beng', 'ben_Latn', 'beq_Latn', 'bew_Latn', 'bex_Latn', 'bfd_Latn', 'bfo_Latn', 'bgr_Latn', 'bgs_Latn', 'bgt_Latn', 'bgz_Latn', 'bhg_Latn', 'bhl_Latn', 'bho_Deva', 'bhp_Latn', 'bhw_Latn', 'bhz_Latn', 'bib_Latn', 'big_Latn', 'bim_Latn', 'bin_Latn', 'bis_Latn', 'biu_Latn', 'biv_Latn', 'bjn_Arab', 'bjn_Latn', 'bjp_Latn', 'bjr_Latn', 'bjv_Latn', 'bkd_Latn', 'bkl_Latn', 'bkq_Latn', 'bku_Latn', 'bkv_Latn', 'bla_Latn', 'blh_Latn', 'blk_Mymr', 'blt_Latn', 'blw_Latn', 'blz_Latn', 'bmh_Latn', 'bmk_Latn', 'bmq_Latn', 'bmr_Latn', 'bmu_Latn', 'bmv_Latn', 'bnj_Latn', 'bno_Latn', 'bnp_Latn', 'boa_Latn', 'bod_Tibt', 'boj_Latn', 'bom_Latn', 'bon_Latn', 'bor_Latn', 'bos_Latn', 'bov_Latn', 'box_Latn', 'bpr_Latn', 'bps_Latn', 'bpy_Beng', 'bqc_Latn', 'bqj_Latn', 'bqp_Latn', 'bre_Latn', 'brh_Arab', 'bru_Latn', 'brx_Deva', 'brx_Latn', 'bsc_Latn', 'bsn_Latn', 'bsp_Latn', 'bsq_Latn', 'bss_Latn', 'btd_Latn', 'bth_Latn', 'bts_Latn', 'btt_Latn', 'btx_Latn', 'bud_Latn', 'bug_Latn', 'buk_Latn', 'bul_Cyrl', 'bum_Latn', 'bus_Latn', 'bvc_Latn', 'bvd_Latn', 'bvr_Latn', 'bvz_Latn', 'bwd_Latn', 'bwi_Latn', 'bwq_Latn', 'bwu_Latn', 'bxh_Latn', 'bxr_Cyrl', 'byr_Latn', 'byv_Latn', 'byx_Latn', 'bzd_Latn', 'bzh_Latn', 'bzi_Thai', 'bzj_Latn', 'caa_Latn', 'cab_Latn', 'cac_Latn', 'caf_Latn', 'cag_Latn', 'cak_Latn', 'cao_Latn', 'cap_Latn', 'caq_Latn', 'car_Latn', 'cas_Latn', 'cat_Latn', 'cav_Latn', 'cax_Latn', 'cbc_Latn', 'cbi_Latn', 'cbk_Latn', 'cbr_Latn', 'cbs_Latn', 'cbt_Latn', 'cbu_Latn', 'cbv_Latn', 'cce_Latn', 'cco_Latn', 'ccp_Latn', 'cdf_Latn', 'ceb_Latn', 'ceg_Latn', 'cek_Latn', 'ces_Latn', 'cfm_Latn', 'cgc_Latn', 'cgg_Latn', 'cha_Latn', 'chd_Latn', 'che_Cyrl', 'chf_Latn', 'chj_Latn', 'chk_Latn', 'cho_Latn', 'chq_Latn', 'chr_Cher', 'chr_Latn', 'chu_Cyrl', 'chv_Cyrl', 'chw_Latn', 'chz_Latn', 'cjk_Latn', 'cjo_Latn', 'cjp_Latn', 'cjs_Cyrl', 'cjv_Latn', 'ckb_Arab', 'ckm_Latn', 'cko_Latn', 'ckt_Cyrl', 'cle_Latn', 'clu_Latn', 'cly_Latn', 'cme_Latn', 'cmn_Hani', 'cmo_Khmr', 'cmo_Latn', 'cmr_Latn', 'cnh_Latn', 'cni_Latn', 'cnk_Latn', 'cnl_Latn', 'cnr_Latn', 'cnt_Latn', 'cnw_Latn', 'coe_Latn', 'cof_Latn', 'cok_Latn', 'con_Latn', 'cop_Copt', 'cor_Latn', 'cos_Latn', 'cot_Latn', 'cou_Latn', 'cpa_Latn', 'cpb_Latn', 'cpc_Latn', 'cpu_Latn', 'cpy_Latn', 'crh_Cyrl', 'crh_Latn', 'cri_Latn', 'crj_Cans', 'crk_Cans', 'crk_Latn', 'crl_Cans', 'crm_Cans', 'crn_Latn', 'crs_Latn', 'crt_Latn', 'crx_Latn', 'csb_Latn', 'csk_Latn', 'cso_Latn', 'csw_Cans', 'csw_Latn', 'csy_Latn', 'cta_Latn', 'ctd_Latn', 'cto_Latn', 'ctp_Latn', 'ctu_Latn', 'cub_Latn', 'cuc_Latn', 'cui_Latn', 'cuk_Latn', 'cul_Latn', 'cut_Latn', 'cux_Latn', 'cwd_Cans', 'cwe_Latn', 'cwt_Latn', 'cya_Latn', 'cym_Latn', 'czt_Latn', 'daa_Latn', 'dad_Latn', 'daf_Latn', 'dag_Latn', 'dah_Latn', 'dak_Latn', 'dan_Latn', 'dar_Cyrl', 'dbq_Latn', 'ddg_Latn', 'ddn_Latn', 'ded_Latn', 'des_Latn', 'deu_Latn', 'dga_Latn', 'dgc_Latn', 'dgi_Latn', 'dgr_Latn', 'dgz_Latn', 'dhg_Latn', 'dhm_Latn', 'dhv_Latn', 'did_Latn', 'dig_Latn', 'dik_Latn', 'dip_Latn', 'diq_Latn', 'dis_Latn', 'diu_Latn', 'div_Thaa', 'dje_Latn', 'djk_Latn', 'djr_Latn', 'dks_Latn', 'dln_Latn', 'dng_Cyrl', 'dnj_Latn', 'dnw_Latn', 'dob_Latn', 'doi_Deva', 'dop_Latn', 'dos_Latn', 'dow_Latn', 'drg_Latn', 'dru_Latn', 'dsb_Latn', 'dsh_Latn', 'dtb_Latn', 'dtp_Latn', 'dts_Latn', 'dty_Deva', 'dua_Latn', 'due_Latn', 'dug_Latn', 'duo_Latn', 'dur_Latn', 'dwr_Latn', 'dww_Latn', 'dyi_Latn', 'dyo_Latn', 'dyu_Latn', 'dzo_Tibt', 'ebk_Latn', 'efi_Latn', 'eka_Latn', 'ekk_Latn', 'eko_Latn', 'ell_Grek', 'eme_Latn', 'emi_Latn', 'eml_Latn', 'emp_Latn', 'enb_Latn', 'eng_Latn', 'enl_Latn', 'enm_Latn', 'enq_Latn', 'enx_Latn', 'epo_Latn', 'eri_Latn', 'ese_Latn', 'esi_Latn', 'esk_Latn', 'ess_Latn', 'esu_Latn', 'eto_Latn', 'etr_Latn', 'etu_Latn', 'eus_Latn', 'eve_Cyrl', 'ewe_Latn', 'ewo_Latn', 'ext_Latn', 'eza_Latn', 'faa_Latn', 'fad_Latn', 'fai_Latn', 'fal_Latn', 'fan_Latn', 'fao_Latn', 'far_Latn', 'fas_Arab', 'fat_Latn', 'ffm_Latn', 'fij_Latn', 'fil_Latn', 'fin_Latn', 'fit_Latn', 'fkv_Latn', 'fmu_Deva', 'fon_Latn', 'for_Latn', 'fra_Latn', 'frd_Latn', 'fro_Latn', 'frp_Latn', 'frr_Latn', 'fry_Latn', 'fub_Latn', 'fud_Latn', 'fue_Latn', 'fuf_Latn', 'fuh_Latn', 'fuq_Latn', 'fur_Latn', 'fuv_Arab', 'fuv_Latn', 'gaa_Latn', 'gag_Cyrl', 'gag_Latn', 'gah_Latn', 'gai_Latn', 'gam_Latn', 'gaw_Latn', 'gaz_Latn', 'gbi_Latn', 'gbo_Latn', 'gbr_Latn', 'gcf_Latn', 'gcr_Latn', 'gde_Latn', 'gdg_Latn', 'gdn_Latn', 'gdr_Latn', 'geb_Latn', 'gej_Latn', 'gfk_Latn', 'ghe_Deva', 'ghs_Latn', 'gid_Latn', 'gil_Latn', 'giz_Latn', 'gjn_Latn', 'gkn_Latn', 'gla_Latn', 'gle_Latn', 'glg_Latn', 'glk_Arab', 'glv_Latn', 'gmh_Latn', 'gmv_Ethi', 'gmv_Latn', 'gna_Latn', 'gnb_Latn', 'gnd_Latn', 'gng_Latn', 'gnn_Latn', 'gnw_Latn', 'goa_Latn', 'gof_Ethi', 'gof_Latn', 'gog_Latn', 'goh_Latn', 'gom_Deva', 'gom_Latn', 'gor_Latn', 'gos_Latn', 'got_Goth', 'got_Latn', 'gqr_Latn', 'grc_Grek', 'grt_Beng', 'gso_Latn', 'gsw_Latn', 'gub_Latn', 'guc_Latn', 'gud_Latn', 'gug_Latn', 'guh_Latn', 'gui_Latn', 'guj_Gujr', 'guj_Latn', 'guk_Ethi', 'gul_Latn', 'gum_Latn', 'gun_Latn', 'guo_Latn', 'guq_Latn', 'gur_Latn', 'guu_Latn', 'guw_Latn', 'gux_Latn', 'guz_Latn', 'gvc_Latn', 'gvf_Latn', 'gvl_Latn', 'gvn_Latn', 'gwi_Latn', 'gwr_Latn', 'gya_Latn', 'gym_Latn', 'gyr_Latn', 'hac_Arab', 'hae_Latn', 'hag_Latn', 'hak_Hani', 'hak_Latn', 'hat_Latn', 'hau_Latn', 'hav_Latn', 'haw_Latn', 'hay_Latn', 'hbo_Hebr', 'hch_Latn', 'heb_Hebr', 'heg_Latn', 'heh_Latn', 'her_Latn', 'hif_Latn', 'hig_Latn', 'hil_Latn', 'hin_Deva', 'hin_Latn', 'hix_Latn', 'hla_Latn', 'hlt_Latn', 'hmo_Latn', 'hmr_Latn', 'hne_Deva', 'hnj_Latn', 'hnn_Latn', 'hns_Latn', 'hoc_Latn', 'hoc_Wara', 'hop_Latn', 'hot_Latn', 'hra_Latn', 'hrv_Latn', 'hrx_Latn', 'hsb_Latn', 'hto_Latn', 'hub_Latn', 'hui_Latn', 'hun_Latn', 'hus_Latn', 'huu_Latn', 'huv_Latn', 'hvn_Latn', 'hwc_Latn', 'hye_Armn', 'hyw_Armn', 'ian_Latn', 'iba_Latn', 'ibg_Latn', 'ibo_Latn', 'icr_Latn', 'ido_Latn', 'idu_Latn', 'ifa_Latn', 'ifb_Latn', 'ife_Latn', 'ifk_Latn', 'ifu_Latn', 'ify_Latn', 'ige_Latn', 'ign_Latn', 'ike_Cans', 'ikk_Latn', 'ikt_Latn', 'ikw_Latn', 'ilb_Latn', 'ile_Latn', 'ilo_Latn', 'imo_Latn', 'ina_Latn', 'inb_Latn', 'ind_Latn', 'inh_Cyrl', 'ino_Latn', 'iou_Latn', 'ipi_Latn', 'iqw_Latn', 'iri_Latn', 'irk_Latn', 'iry_Latn', 'isd_Latn', 'ish_Latn', 'isl_Latn', 'iso_Latn', 'ita_Latn', 'itl_Cyrl', 'itv_Latn', 'ium_Latn', 'ivb_Latn', 'ivv_Latn', 'iws_Latn', 'ixl_Latn', 'izr_Latn', 'izz_Latn', 'jaa_Latn', 'jac_Latn', 'jae_Latn', 'jam_Latn', 'jav_Java', 'jav_Latn', 'jbo_Latn', 'jbu_Latn', 'jic_Latn', 'jiv_Latn', 'jmc_Latn', 'jpn_Jpan', 'jra_Latn', 'jun_Orya', 'jvn_Latn', 'kaa_Cyrl', 'kaa_Latn', 'kab_Latn', 'kac_Latn', 'kak_Latn', 'kal_Latn', 'kam_Latn', 'kan_Knda', 'kan_Latn', 'kao_Latn', 'kap_Cyrl', 'kaq_Latn', 'kas_Arab', 'kas_Deva', 'kas_Latn', 'kat_Geor', 'kaz_Cyrl', 'kbc_Latn', 'kbd_Cyrl', 'kbh_Latn', 'kbm_Latn', 'kbo_Latn', 'kbp_Latn', 'kbq_Latn', 'kbr_Latn', 'kby_Latn', 'kca_Cyrl', 'kcg_Latn', 'kck_Latn', 'kdc_Latn', 'kde_Latn', 'kdh_Latn', 'kdi_Latn', 'kdj_Latn', 'kdl_Latn', 'kdp_Latn', 'kdr_Latn', 'kea_Latn', 'kei_Latn', 'kek_Latn', 'ken_Latn', 'keo_Latn', 'ker_Latn', 'kew_Latn', 'kex_Deva', 'kez_Latn', 'kff_Telu', 'kgf_Latn', 'kgk_Latn', 'kgp_Latn', 'kgr_Latn', 'kha_Latn', 'khk_Cyrl', 'khm_Khmr', 'khq_Latn', 'khs_Latn', 'khy_Latn', 'khz_Latn', 'kia_Latn', 'kij_Latn', 'kik_Latn', 'kin_Latn', 'kir_Cyrl', 'kiu_Latn', 'kix_Latn', 'kjb_Latn', 'kje_Latn', 'kjh_Cyrl', 'kjs_Latn', 'kkc_Latn', 'kki_Latn', 'kkj_Latn', 'kkl_Latn', 'kle_Deva', 'klt_Latn', 'klv_Latn', 'kma_Latn', 'kmb_Latn', 'kmd_Latn', 'kmg_Latn', 'kmh_Latn', 'kmk_Latn', 'kmm_Latn', 'kmo_Latn', 'kmr_Cyrl', 'kmr_Latn', 'kms_Latn', 'kmu_Latn', 'kmy_Latn', 'knc_Arab', 'knc_Latn', 'kne_Latn', 'knf_Latn', 'kng_Latn', 'knj_Latn', 'knk_Latn', 'kno_Latn', 'knv_Latn', 'knx_Latn', 'kny_Latn', 'kog_Latn', 'koi_Cyrl', 'koo_Latn', 'kor_Hang', 'kos_Latn', 'kpe_Latn', 'kpf_Latn', 'kpg_Latn', 'kpj_Latn', 'kpq_Latn', 'kpr_Latn', 'kpv_Cyrl', 'kpw_Latn', 'kpx_Latn', 'kpz_Latn', 'kqa_Latn', 'kqc_Latn', 'kqe_Latn', 'kqf_Latn', 'kql_Latn', 'kqn_Latn', 'kqo_Latn', 'kqp_Latn', 'kqs_Latn', 'kqw_Latn', 'kqy_Ethi', 'krc_Cyrl', 'kri_Latn', 'krj_Latn', 'krl_Latn', 'kru_Deva', 'krx_Latn', 'ksb_Latn', 'ksc_Latn', 'ksd_Latn', 'ksf_Latn', 'ksh_Latn', 'ksj_Latn', 'ksp_Latn', 'ksr_Latn', 'kss_Latn', 'ksw_Mymr', 'ktb_Ethi', 'ktj_Latn', 'ktm_Latn', 'kto_Latn', 'ktu_Latn', 'ktz_Latn', 'kua_Latn', 'kub_Latn', 'kud_Latn', 'kue_Latn', 'kuj_Latn', 'kum_Cyrl', 'kup_Latn', 'kus_Latn', 'kvg_Latn', 'kvj_Latn', 'kvn_Latn', 'kwd_Latn', 'kwf_Latn', 'kwi_Latn', 'kwj_Latn', 'kwn_Latn', 'kwy_Latn', 'kxc_Ethi', 'kxm_Thai', 'kxw_Latn', 'kyc_Latn', 'kyf_Latn', 'kyg_Latn', 'kyq_Latn', 'kyu_Kali', 'kyu_Latn', 'kyu_Mymr', 'kyz_Latn', 'kze_Latn', 'kzf_Latn', 'kzj_Latn', 'kzn_Latn', 'lac_Latn', 'lad_Hebr', 'lad_Latn', 'lai_Latn', 'laj_Latn', 'lam_Latn', 'lao_Laoo', 'lap_Latn', 'las_Latn', 'lat_Latn', 'law_Latn', 'lbb_Latn', 'lbe_Cyrl', 'lbj_Tibt', 'lbk_Latn', 'lcm_Latn', 'lcp_Thai', 'ldi_Latn', 'ldn_Latn', 'lea_Latn', 'led_Latn', 'lee_Latn', 'lef_Latn', 'leh_Latn', 'lem_Latn', 'leu_Latn', 'lew_Latn', 'lex_Latn', 'lez_Cyrl', 'lfn_Cyrl', 'lfn_Latn', 'lgg_Latn', 'lgl_Latn', 'lgm_Latn', 'lhi_Latn', 'lhu_Latn', 'lia_Latn', 'lid_Latn', 'lif_Deva', 'lif_Limb', 'lij_Latn', 'lim_Latn', 'lin_Latn', 'lip_Latn', 'lis_Lisu', 'lit_Latn', 'liv_Latn', 'ljp_Latn', 'lki_Arab', 'llb_Latn', 'lld_Latn', 'llg_Latn', 'lln_Latn', 'lmk_Latn', 'lmo_Latn', 'lmp_Latn', 'lnd_Latn', 'lob_Latn', 'loe_Latn', 'log_Latn', 'lok_Latn', 'lol_Latn', 'lom_Latn', 'loq_Latn', 'loz_Latn', 'lrc_Arab', 'lsi_Latn', 'lsm_Latn', 'ltg_Latn', 'ltz_Latn', 'lua_Latn', 'lub_Latn', 'luc_Latn', 'lud_Latn', 'lue_Latn', 'lug_Latn', 'lun_Latn', 'luo_Latn', 'lus_Latn', 'lvs_Latn', 'lwg_Latn', 'lwo_Latn', 'lww_Latn', 'lzh_Hani', 'maa_Latn', 'mad_Latn', 'maf_Latn', 'mag_Deva', 'mah_Latn', 'mai_Deva', 'maj_Latn', 'mak_Latn', 'mal_Latn', 'mal_Mlym', 'mam_Latn', 'maq_Latn', 'mar_Deva', 'mar_Latn', 'mas_Latn', 'mau_Latn', 'mav_Latn', 'maw_Latn', 'max_Latn', 'maz_Latn', 'mbb_Latn', 'mbc_Latn', 'mbd_Latn', 'mbf_Latn', 'mbh_Latn', 'mbi_Latn', 'mbj_Latn', 'mbl_Latn', 'mbs_Latn', 'mbt_Latn', 'mca_Latn', 'mcb_Latn', 'mcd_Latn', 'mcf_Latn', 'mck_Latn', 'mcn_Latn', 'mco_Latn', 'mcp_Latn', 'mcq_Latn', 'mcu_Latn', 'mda_Latn', 'mdf_Cyrl', 'mdy_Ethi', 'med_Latn', 'mee_Latn', 'mej_Latn', 'mek_Latn', 'men_Latn', 'meq_Latn', 'mer_Latn', 'met_Latn', 'meu_Latn', 'mev_Latn', 'mfe_Latn', 'mfg_Latn', 'mfh_Latn', 'mfi_Latn', 'mfk_Latn', 'mfq_Latn', 'mfy_Latn', 'mfz_Latn', 'mgc_Latn', 'mgh_Latn', 'mgm_Latn', 'mgo_Latn', 'mgr_Latn', 'mhi_Latn', 'mhl_Latn', 'mhr_Cyrl', 'mhw_Latn', 'mhx_Latn', 'mhy_Latn', 'mib_Latn', 'mic_Latn', 'mie_Latn', 'mif_Latn', 'mig_Latn', 'mih_Latn', 'mil_Latn', 'mim_Latn', 'min_Arab', 'min_Latn', 'mio_Latn', 'mip_Latn', 'miq_Latn', 'mir_Latn', 'mit_Latn', 'miy_Latn', 'miz_Latn', 'mjc_Latn', 'mjw_Latn', 'mkd_Cyrl', 'mkl_Latn', 'mkn_Latn', 'mks_Latn', 'mkz_Latn', 'mlh_Latn', 'mlp_Latn', 'mlt_Latn', 'mlu_Latn', 'mmn_Latn', 'mmo_Latn', 'mmx_Latn', 'mna_Latn', 'mnb_Latn', 'mnf_Latn', 'mni_Beng', 'mni_Latn', 'mni_Mtei', 'mnk_Latn', 'mns_Cyrl', 'mnw_Mymr', 'mnx_Latn', 'mny_Latn', 'moa_Latn', 'moc_Latn', 'mog_Latn', 'moh_Latn', 'mop_Latn', 'mor_Latn', 'mos_Latn', 'mox_Latn', 'mpg_Latn', 'mph_Latn', 'mpm_Latn', 'mpp_Latn', 'mps_Latn', 'mpt_Latn', 'mpx_Latn', 'mqb_Latn', 'mqj_Latn', 'mqy_Latn', 'mrg_Latn', 'mri_Latn', 'mrj_Cyrl', 'mrq_Latn', 'mrv_Latn', 'mrw_Latn', 'msb_Latn', 'msc_Latn', 'mse_Latn', 'msk_Latn', 'msm_Latn', 'msy_Latn', 'mta_Latn', 'mtg_Latn', 'mti_Latn', 'mtj_Latn', 'mto_Latn', 'mtp_Latn', 'mua_Latn', 'mug_Latn', 'muh_Latn', 'mui_Latn', 'mup_Deva', 'mur_Latn', 'mus_Latn', 'mux_Latn', 'muy_Latn', 'mva_Latn', 'mvn_Latn', 'mvp_Latn', 'mwc_Latn', 'mwf_Latn', 'mwl_Latn', 'mwm_Latn', 'mwn_Latn', 'mwp_Latn', 'mwq_Latn', 'mwv_Latn', 'mww_Latn', 'mxb_Latn', 'mxp_Latn', 'mxq_Latn', 'mxt_Latn', 'mxv_Latn', 'mya_Mymr', 'myb_Latn', 'myk_Latn', 'myu_Latn', 'myv_Cyrl', 'myw_Latn', 'myx_Latn', 'myy_Latn', 'mza_Latn', 'mzh_Latn', 'mzk_Latn', 'mzl_Latn', 'mzm_Latn', 'mzn_Arab', 'mzw_Latn', 'mzz_Latn', 'nab_Latn', 'naf_Latn', 'nah_Latn', 'nak_Latn', 'nan_Hani', 'nan_Latn', 'nap_Latn', 'naq_Latn', 'nas_Latn', 'nav_Latn', 'naw_Latn', 'nba_Latn', 'nbc_Latn', 'nbe_Latn', 'nbl_Latn', 'nbq_Latn', 'nbu_Latn', 'nca_Latn', 'nch_Latn', 'ncj_Latn', 'ncl_Latn', 'ncq_Laoo', 'nct_Latn', 'ncu_Latn', 'ncx_Latn', 'ndc_Latn', 'nde_Latn', 'ndh_Latn', 'ndi_Latn', 'ndj_Latn', 'ndo_Latn', 'ndp_Latn', 'nds_Latn', 'ndy_Latn', 'ndz_Latn', 'neb_Latn', 'new_Deva', 'nfa_Latn', 'nfr_Latn', 'ngb_Latn', 'ngc_Latn', 'ngl_Latn', 'ngp_Latn', 'ngu_Latn', 'nhd_Latn', 'nhe_Latn', 'nhg_Latn', 'nhi_Latn', 'nhk_Latn', 'nho_Latn', 'nhr_Latn', 'nhu_Latn', 'nhw_Latn', 'nhx_Latn', 'nhy_Latn', 'nia_Latn', 'nif_Latn', 'nii_Latn', 'nij_Latn', 'nim_Latn', 'nin_Latn', 'nio_Cyrl', 'niq_Latn', 'niu_Latn', 'niy_Latn', 'njb_Latn', 'njm_Latn', 'njn_Latn', 'njo_Latn', 'njz_Latn', 'nkf_Latn', 'nki_Latn', 'nko_Latn', 'nla_Latn', 'nlc_Latn', 'nld_Latn', 'nlg_Latn', 'nma_Latn', 'nmf_Latn', 'nmh_Latn', 'nmo_Latn', 'nmw_Latn', 'nmz_Latn', 'nnb_Latn', 'nng_Latn', 'nnh_Latn', 'nnl_Latn', 'nno_Latn', 'nnp_Latn', 'nnq_Latn', 'nnw_Latn', 'noa_Latn', 'nob_Latn', 'nod_Thai', 'nog_Cyrl', 'non_Latn', 'nop_Latn', 'not_Latn', 'nou_Latn', 'nov_Latn', 'nph_Latn', 'npi_Deva', 'npi_Latn', 'npl_Latn', 'npo_Latn', 'npy_Latn', 'nqo_Nkoo', 'nre_Latn', 'nrf_Latn', 'nri_Latn', 'nrm_Latn', 'nsa_Latn', 'nse_Latn', 'nsm_Latn', 'nsn_Latn', 'nso_Latn', 'nss_Latn', 'nst_Latn', 'nsu_Latn', 'ntp_Latn', 'ntr_Latn', 'ntu_Latn', 'nuj_Latn', 'nus_Latn', 'nuy_Latn', 'nuz_Latn', 'nvm_Latn', 'nwb_Latn', 'nwi_Latn', 'nwx_Deva', 'nxd_Latn', 'nya_Latn', 'nyf_Latn', 'nyk_Latn', 'nyn_Latn', 'nyo_Latn', 'nyu_Latn', 'nyy_Latn', 'nza_Latn', 'nzi_Latn', 'nzm_Latn', 'obo_Latn', 'oci_Latn', 'ogo_Latn', 'ojb_Cans', 'ojb_Latn', 'oke_Latn', 'oku_Latn', 'okv_Latn', 'old_Latn', 'olo_Latn', 'omb_Latn', 'omw_Latn', 'ong_Latn', 'ons_Latn', 'ood_Latn', 'opm_Latn', 'orv_Cyrl', 'ory_Latn', 'ory_Orya', 'oss_Cyrl', 'ota_Arab', 'otd_Latn', 'ote_Latn', 'otm_Latn', 'otn_Latn', 'oto_Latn', 'otq_Latn', 'ots_Latn', 'otw_Latn', 'oym_Latn', 'ozm_Latn', 'pab_Latn', 'pad_Latn', 'pag_Latn', 'pah_Latn', 'pam_Latn', 'pan_Guru', 'pan_Latn', 'pao_Latn', 'pap_Latn', 'pau_Latn', 'pbb_Latn', 'pbc_Latn', 'pbi_Latn', 'pbt_Arab', 'pcd_Latn', 'pck_Latn', 'pcm_Latn', 'pdc_Latn', 'pdt_Latn', 'pem_Latn', 'pfe_Latn', 'pfl_Latn', 'phm_Latn', 'pib_Latn', 'pio_Latn', 'pir_Latn', 'pis_Latn', 'pjt_Latn', 'pkb_Latn', 'plg_Latn', 'pls_Latn', 'plt_Latn', 'plu_Latn', 'plw_Latn', 'pma_Latn', 'pmf_Latn', 'pmq_Latn', 'pms_Latn', 'pmx_Latn', 'pnb_Arab', 'pne_Latn', 'pnt_Grek', 'pny_Latn', 'poe_Latn', 'poh_Latn', 'poi_Latn', 'pol_Latn', 'pon_Latn', 'por_Latn', 'pos_Latn', 'pot_Latn', 'pov_Latn', 'poy_Latn', 'ppk_Latn', 'ppo_Latn', 'pps_Latn', 'prf_Latn', 'prg_Latn', 'pri_Latn', 'prq_Latn', 'pse_Latn', 'pss_Latn', 'ptp_Latn', 'ptu_Latn', 'pua_Latn', 'pui_Latn', 'pwg_Latn', 'pwn_Latn', 'pww_Thai', 'pxm_Latn', 'qub_Latn', 'quc_Latn', 'quf_Latn', 'qug_Latn', 'quh_Latn', 'qul_Latn', 'qup_Latn', 'qus_Latn', 'quw_Latn', 'quy_Latn', 'quz_Latn', 'qva_Latn', 'qvc_Latn', 'qve_Latn', 'qvh_Latn', 'qvi_Latn', 'qvm_Latn', 'qvn_Latn', 'qvo_Latn', 'qvs_Latn', 'qvw_Latn', 'qvz_Latn', 'qwh_Latn', 'qxh_Latn', 'qxl_Latn', 'qxn_Latn', 'qxo_Latn', 'qxr_Latn', 'rad_Latn', 'rai_Latn', 'rap_Latn', 'rar_Latn', 'rav_Deva', 'raw_Latn', 'rcf_Latn', 'rej_Latn', 'rel_Latn', 'rgu_Latn', 'rhg_Latn', 'ria_Latn', 'rim_Latn', 'rjs_Deva', 'rkb_Latn', 'rmc_Latn', 'rme_Latn', 'rml_Latn', 'rmn_Cyrl', 'rmn_Grek', 'rmn_Latn', 'rmo_Latn', 'rmq_Latn', 'rmy_Cyrl', 'rmy_Latn', 'rnd_Latn', 'rng_Latn', 'rnl_Latn', 'roh_Latn', 'ron_Cyrl', 'ron_Latn', 'roo_Latn', 'rop_Latn', 'row_Latn', 'rro_Latn', 'rtm_Latn', 'rub_Latn', 'rue_Cyrl', 'ruf_Latn', 'rug_Latn', 'run_Latn', 'rup_Latn', 'rus_Cyrl', 'rwo_Latn', 'sab_Latn', 'sag_Latn', 'sah_Cyrl', 'saj_Latn', 'san_Deva', 'san_Latn', 'sas_Latn', 'sat_Latn', 'sat_Olck', 'say_Latn', 'sba_Latn', 'sbd_Latn', 'sbe_Latn', 'sbl_Latn', 'sbs_Latn', 'sby_Latn', 'sck_Deva', 'scn_Latn', 'sco_Latn', 'sda_Latn', 'sdc_Latn', 'sdh_Arab', 'sdo_Latn', 'sdq_Latn', 'seh_Latn', 'sel_Cyrl', 'ses_Latn', 'sey_Latn', 'sfw_Latn', 'sgb_Latn', 'sgc_Latn', 'sgh_Cyrl', 'sgs_Latn', 'sgw_Ethi', 'sgz_Latn', 'shi_Latn', 'shk_Latn', 'shn_Mymr', 'shp_Latn', 'shr_Latn', 'shu_Arab', 'sid_Latn', 'sig_Latn', 'sil_Latn', 'sim_Latn', 'sin_Sinh', 'sja_Latn', 'sjo_Mong', 'sju_Latn', 'skg_Latn', 'skr_Arab', 'sld_Latn', 'slk_Latn', 'sll_Latn', 'slv_Latn', 'sma_Latn', 'sme_Latn', 'smj_Latn', 'smk_Latn', 'sml_Latn', 'smn_Latn', 'smo_Latn', 'sms_Latn', 'smt_Latn', 'sna_Latn', 'snc_Latn', 'snd_Arab', 'snd_Deva', 'snd_Latn', 'snf_Latn', 'snn_Latn', 'snp_Latn', 'snw_Latn', 'sny_Latn', 'soe_Latn', 'som_Latn', 'sop_Latn', 'soq_Latn', 'sot_Latn', 'soy_Latn', 'spa_Latn', 'spl_Latn', 'spm_Latn', 'spp_Latn', 'sps_Latn', 'spy_Latn', 'srd_Latn', 'sri_Latn', 'srm_Latn', 'srn_Latn', 'srp_Cyrl', 'srp_Latn', 'srq_Latn', 'srr_Latn', 'ssd_Latn', 'ssg_Latn', 'ssw_Latn', 'ssx_Latn', 'stn_Latn', 'stp_Latn', 'stq_Latn', 'sua_Latn', 'suc_Latn', 'sue_Latn', 'suk_Latn', 'sun_Latn', 'sur_Latn', 'sus_Arab', 'sus_Latn', 'suz_Deva', 'swb_Latn', 'swc_Latn', 'swe_Latn', 'swg_Latn', 'swh_Latn', 'swk_Latn', 'swp_Latn', 'sxb_Latn', 'sxn_Latn', 'syb_Latn', 'syc_Syrc', 'syl_Beng', 'syl_Latn', 'szb_Latn', 'szl_Latn', 'szy_Latn', 'tab_Cyrl', 'tac_Latn', 'tah_Latn', 'taj_Deva', 'tam_Latn', 'tam_Taml', 'tap_Latn', 'taq_Latn', 'taq_Tfng', 'tar_Latn', 'tat_Cyrl', 'tat_Latn', 'tav_Latn', 'taw_Latn', 'tay_Latn', 'tbc_Latn', 'tbg_Latn', 'tbk_Latn', 'tbl_Latn', 'tbo_Latn', 'tbw_Latn', 'tby_Latn', 'tbz_Latn', 'tca_Latn', 'tcc_Latn', 'tcf_Latn', 'tcs_Latn', 'tcy_Knda', 'tcz_Latn', 'tdt_Latn', 'tdx_Latn', 'ted_Latn', 'tee_Latn', 'tel_Latn', 'tel_Telu', 'tem_Latn', 'teo_Latn', 'ter_Latn', 'tet_Latn', 'tew_Latn', 'tfr_Latn', 'tgk_Cyrl', 'tgo_Latn', 'tgp_Latn', 'tha_Thai', 'thk_Latn', 'thl_Deva', 'thv_Latn', 'tif_Latn', 'tig_Ethi', 'tih_Latn', 'tik_Latn', 'tim_Latn', 'tir_Ethi', 'tiv_Latn', 'tiy_Latn', 'tke_Latn', 'tkl_Latn', 'tkr_Cyrl', 'tku_Latn', 'tlb_Latn', 'tlf_Latn', 'tlh_Latn', 'tlj_Latn', 'tll_Latn', 'tly_Latn', 'tmc_Latn', 'tmd_Latn', 'tna_Latn', 'tnc_Latn', 'tnk_Latn', 'tnn_Latn', 'tnp_Latn', 'tnr_Latn', 'tob_Latn', 'toc_Latn', 'tod_Latn', 'tog_Latn', 'toh_Latn', 'toi_Latn', 'toj_Latn', 'tok_Latn', 'ton_Latn', 'too_Latn', 'top_Latn', 'tos_Latn', 'tpa_Latn', 'tpi_Latn', 'tpm_Latn', 'tpn_Latn', 'tpp_Latn', 'tpt_Latn', 'tpw_Latn', 'tpz_Latn', 'tqo_Latn', 'trc_Latn', 'trn_Latn', 'tro_Latn', 'trp_Latn', 'trq_Latn', 'trs_Latn', 'trv_Latn', 'tsc_Latn', 'tsg_Latn', 'tsn_Latn', 'tso_Latn', 'tsw_Latn', 'tsz_Latn', 'ttc_Latn', 'tte_Latn', 'ttj_Latn', 'ttq_Latn', 'ttq_Tfng', 'tuc_Latn', 'tue_Latn', 'tuf_Latn', 'tui_Latn', 'tuk_Arab', 'tuk_Cyrl', 'tuk_Latn', 'tul_Latn', 'tum_Latn', 'tuo_Latn', 'tur_Latn', 'tuv_Latn', 'tvk_Latn', 'tvl_Latn', 'twb_Latn', 'twi_Latn', 'twu_Latn', 'twx_Latn', 'txq_Latn', 'txu_Latn', 'tyv_Cyrl', 'tzh_Latn', 'tzj_Latn', 'tzl_Latn', 'tzm_Tfng', 'tzo_Latn', 'ubr_Latn', 'ubu_Latn', 'udm_Cyrl', 'udu_Latn', 'uig_Arab', 'uig_Cyrl', 'uig_Latn', 'ukr_Cyrl', 'umb_Latn', 'und_Adlm', 'und_Aghb', 'und_Ahom', 'und_Armi', 'und_Armn', 'und_Avst', 'und_Bali', 'und_Bamu', 'und_Bass', 'und_Batk', 'und_Beng', 'und_Bhks', 'und_Bopo', 'und_Brah', 'und_Brai', 'und_Bugi', 'und_Buhd', 'und_Cakm', 'und_Cans', 'und_Cari', 'und_Cham', 'und_Cher', 'und_Chrs', 'und_Copt', 'und_Cpmn', 'und_Cprt', 'und_Cyrl', 'und_Deva', 'und_Diak', 'und_Dogr', 'und_Dsrt', 'und_Dupl', 'und_Egyp', 'und_Elba', 'und_Elym', 'und_Ethi', 'und_Geor', 'und_Glag', 'und_Gong', 'und_Gonm', 'und_Goth', 'und_Gran', 'und_Grek', 'und_Gujr', 'und_Guru', 'und_Hano', 'und_Hatr', 'und_Hebr', 'und_Hira', 'und_Hluw', 'und_Hmng', 'und_Hmnp', 'und_Hung', 'und_Ital', 'und_Java', 'und_Kali', 'und_Kana', 'und_Kawi', 'und_Khar', 'und_Khmr', 'und_Khoj', 'und_Kits', 'und_Knda', 'und_Kthi', 'und_Lana', 'und_Laoo', 'und_Lepc', 'und_Limb', 'und_Lina', 'und_Linb', 'und_Lisu', 'und_Lyci', 'und_Lydi', 'und_Mahj', 'und_Maka', 'und_Mand', 'und_Mani', 'und_Marc', 'und_Medf', 'und_Mend', 'und_Merc', 'und_Mero', 'und_Mlym', 'und_Modi', 'und_Mong', 'und_Mroo', 'und_Mtei', 'und_Mult', 'und_Mymr', 'und_Nagm', 'und_Nand', 'und_Narb', 'und_Nbat', 'und_Newa', 'und_Nkoo', 'und_Nshu', 'und_Ogam', 'und_Olck', 'und_Orkh', 'und_Orya', 'und_Osge', 'und_Osma', 'und_Ougr', 'und_Palm', 'und_Pauc', 'und_Perm', 'und_Phag', 'und_Phli', 'und_Phlp', 'und_Phnx', 'und_Plrd', 'und_Prti', 'und_Rjng', 'und_Rohg', 'und_Runr', 'und_Samr', 'und_Sarb', 'und_Saur', 'und_Sgnw', 'und_Shaw', 'und_Shrd', 'und_Sidd', 'und_Sind', 'und_Sinh', 'und_Sogd', 'und_Sogo', 'und_Sora', 'und_Soyo', 'und_Sund', 'und_Sylo', 'und_Syrc', 'und_Tagb', 'und_Takr', 'und_Tale', 'und_Talu', 'und_Taml', 'und_Tang', 'und_Tavt', 'und_Telu', 'und_Tfng', 'und_Tglg', 'und_Thaa', 'und_Thai', 'und_Tibt', 'und_Tirh', 'und_Tnsa', 'und_Toto', 'und_Ugar', 'und_Vaii', 'und_Vith', 'und_Wara', 'und_Wcho', 'und_Xpeo', 'und_Xsux', 'und_Yezi', 'und_Yiii', 'und_Zanb', 'upv_Latn', 'ura_Latn', 'urb_Latn', 'urd_Arab', 'urd_Latn', 'urh_Latn', 'uri_Latn', 'urk_Thai', 'urt_Latn', 'urw_Latn', 'ury_Latn', 'usa_Latn', 'usp_Latn', 'uth_Latn', 'uvh_Latn', 'uvl_Latn', 'uzn_Cyrl', 'uzn_Latn', 'uzs_Arab', 'vag_Latn', 'vap_Latn', 'var_Latn', 'vec_Latn', 'ven_Latn', 'vep_Latn', 'vid_Latn', 'vie_Latn', 'viv_Latn', 'vls_Latn', 'vmk_Latn', 'vmw_Latn', 'vmy_Latn', 'vol_Latn', 'vot_Latn', 'vro_Latn', 'vun_Latn', 'vut_Latn', 'waj_Latn', 'wal_Ethi', 'wal_Latn', 'wap_Latn', 'war_Latn', 'wat_Latn', 'way_Latn', 'wba_Latn', 'wbm_Latn', 'wbp_Latn', 'wed_Latn', 'wer_Latn', 'wes_Latn', 'wew_Latn', 'whg_Latn', 'whk_Latn', 'wib_Latn', 'wim_Latn', 'wiu_Latn', 'wln_Latn', 'wls_Latn', 'wlv_Latn', 'wlx_Latn', 'wmt_Latn', 'wmw_Latn', 'wnc_Latn', 'wnu_Latn', 'wob_Latn', 'wol_Latn', 'wos_Latn', 'wrk_Latn', 'wrs_Latn', 'wsg_Telu', 'wsk_Latn', 'wuu_Hani', 'wuv_Latn', 'wwa_Latn', 'xal_Cyrl', 'xav_Latn', 'xbi_Latn', 'xbr_Latn', 'xed_Latn', 'xho_Latn', 'xla_Latn', 'xmf_Geor', 'xmm_Latn', 'xmv_Latn', 'xnn_Latn', 'xog_Latn', 'xon_Latn', 'xrb_Latn', 'xsb_Latn', 'xsi_Latn', 'xsm_Latn', 'xsr_Deva', 'xsu_Latn', 'xtd_Latn', 'xtm_Latn', 'xtn_Latn', 'xum_Latn', 'xuo_Latn', 'yaa_Latn', 'yad_Latn', 'yal_Latn', 'yam_Latn', 'yan_Latn', 'yao_Latn', 'yap_Latn', 'yaq_Latn', 'yas_Latn', 'yat_Latn', 'yaz_Latn', 'ybb_Latn', 'yby_Latn', 'ycn_Latn', 'ydd_Hebr', 'yim_Latn', 'yka_Latn', 'yle_Latn', 'yli_Latn', 'yml_Latn', 'yom_Latn', 'yon_Latn', 'yor_Latn', 'yrb_Latn', 'yre_Latn', 'yrk_Cyrl', 'yrl_Latn', 'yss_Latn', 'yua_Latn', 'yue_Hani', 'yuj_Latn', 'yup_Latn', 'yut_Latn', 'yuw_Latn', 'yuz_Latn', 'yva_Latn', 'zaa_Latn', 'zab_Latn', 'zac_Latn', 'zad_Latn', 'zae_Latn', 'zai_Latn', 'zam_Latn', 'zao_Latn', 'zar_Latn', 'zas_Latn', 'zat_Latn', 'zav_Latn', 'zaw_Latn', 'zca_Latn', 'zdj_Latn', 'zea_Latn', 'zgh_Tfng', 'zia_Latn', 'ziw_Latn', 'zne_Latn', 'zoc_Latn', 'zom_Latn', 'zos_Latn', 'zpa_Latn', 'zpc_Latn', 'zpg_Latn', 'zpi_Latn', 'zpj_Latn', 'zpl_Latn', 'zpm_Latn', 'zpo_Latn', 'zpq_Latn', 'zpt_Latn', 'zpu_Latn', 'zpv_Latn', 'zpz_Latn', 'zsm_Arab', 'zsm_Latn', 'zsr_Latn', 'ztq_Latn', 'zty_Latn', 'zul_Latn', 'zxx_Arab', 'zxx_Latn', 'zxx_Zzzz', 'zyb_Latn', 'zyp_Latn']\n",
      "Number of languages in GlotLID: 2102\n",
      "['pnb_Arab', 'ido_Latn', 'hnj_Latn', 'pap_Latn', 'kan_Knda', 'csa_Latn', 'npi_Deva', 'mor_Latn', 'pbu_Arab', 'oaa_Cyrl', 'gag_Latn', 'bba_Latn', 'vep_Latn', 'als_Latn', 'qwh_Latn', 'toj_Latn', 'kde_Latn', 'ell_Grek', 'fra_Latn', 'fon_Latn', 'zdj_Latn', 'lot_Latn', 'tsz_Latn', 'cbr_Latn', 'kdh_Latn', 'lia_Latn', 'tly_Latn', 'mxi_Latn', 'pis_Latn', 'ydd_Hebr', 'cjy_Hani', 'bam_Latn', 'pan_Guru', 'tiv_Latn', 'ceb_Latn', 'koi_Cyrl', 'kaa_Cyrl', 'tzh_Latn', 'cnr_Latn', 'eng_Latn', 'pam_Latn', 'fuf_Latn', 'isl_Latn', 'bho_Deva', 'top_Latn', 'nku_Latn', 'ron_Latn', 'lun_Latn', 'koo_Latn', 'sus_Latn', 'nzi_Latn', 'snk_Latn', 'mri_Latn', 'umb_Latn', 'ast_Latn', 'arb_Arab', 'mcd_Latn', 'ces_Latn', 'chk_Latn', 'qxu_Latn', 'por_Latn', 'sot_Latn', 'qvc_Latn', 'xho_Latn', 'tha_Thai', 'fat_Latn', 'mfq_Latn', 'nob_Latn', 'boa_Latn', 'hun_Latn', 'tel_Telu', 'toi_Latn', 'ppl_Latn', 'hms_Latn', 'ltz_Latn', 'knc_Latn', 'zlm_Arab', 'tam_Taml', 'gjn_Latn', 'dga_Latn', 'lij_Latn', 'emk_Latn', 'cos_Latn', 'swe_Latn', 'kkh_Lana', 'jiv_Latn', 'cnh_Latn', 'spa_Latn', 'ewe_Latn', 'huu_Latn', 'oki_Latn', 'tgk_Cyrl', 'lug_Latn', 'epo_Latn', 'chj_Latn', 'snn_Latn', 'qug_Latn', 'jav_Java', 'hak_Hani', 'cjs_Cyrl', 'gug_Latn', 'bum_Latn', 'tuk_Cyrl', 'pon_Latn', 'run_Latn', 'ita_Latn', 'lob_Latn', 'hrv_Latn', 'rar_Latn', 'fkv_Latn', 'buc_Latn', 'san_Deva', 'ben_Beng', 'mos_Latn', 'srr_Latn', 'pov_Latn', 'wuu_Hani', 'pol_Latn', 'ekk_Latn', 'lit_Latn', 'fuf_Adlm', 'srp_Cyrl', 'men_Latn', 'ame_Latn', 'lat_Latn', 'ojb_Cans', 'nbl_Latn', 'nya_Latn', 'bax_Latn', 'cof_Latn', 'suk_Latn', 'uzn_Latn', 'chr_Cher', 'cat_Latn', 'ktu_Latn', 'nld_Latn', 'krl_Latn', 'dje_Latn', 'mic_Latn', 'sey_Latn', 'cmn_Hani', 'eus_Latn', 'vai_Vaii', 'tob_Latn', 'qxn_Latn', 'hus_Latn', 'gle_Latn', 'hye_Armn', 'wln_Latn', 'kmb_Latn', 'pcm_Latn', 'zro_Latn', 'gej_Latn', 'uig_Latn', 'tir_Ethi', 'lad_Latn', 'cfm_Latn', 'hni_Latn', 'ayr_Latn', 'miq_Latn', 'cym_Latn', 'cbi_Latn', 'swh_Latn', 'uzn_Cyrl', 'acu_Latn', 'niu_Latn', 'urd_Arab', 'blt_Tavt', 'tzm_Tfng', 'nba_Latn', 'ada_Latn', 'kbp_Latn', 'bel_Cyrl', 'gsw_Latn', 'nno_Latn', 'orh_Latn', 'kea_Latn', 'kor_Hang', 'eve_Cyrl', 'cbs_Latn', 'bos_Cyrl', 'san_Gran', 'yor_Latn', 'kat_Geor', 'wol_Latn', 'ztu_Latn', 'ace_Latn', 'ibb_Latn', 'pes_Arab', 'pbb_Latn', 'yap_Latn', 'aii_Syrc', 'mnw_Mymr', 'bul_Cyrl', 'guu_Latn', 'yrk_Cyrl', 'mto_Latn', 'qvm_Latn', 'wwa_Latn', 'skr_Arab', 'vec_Latn', 'glv_Latn', 'cni_Latn', 'mkd_Cyrl', 'yua_Latn', 'tsn_Latn', 'hat_Latn', 'hlt_Latn', 'fry_Latn', 'idu_Latn', 'ibo_Latn', 'mcf_Latn', 'tgl_Latn', 'oci_Latn', 'sco_Latn', 'ind_Latn', 'ddn_Latn', 'kwi_Latn', 'sid_Latn', 'niv_Cyrl', 'mya_Mymr', 'nym_Latn', 'csw_Cans', 'khm_Khmr', 'njo_Latn', 'kin_Latn', 'arl_Latn', 'yao_Latn', 'twi_Latn', 'ssw_Latn', 'crs_Latn', 'nds_Latn', 'tem_Latn', 'hin_Deva', 'mlt_Latn', 'tgl_Tglg', 'gyr_Latn', 'auc_Latn', 'cri_Latn', 'hns_Latn', 'iii_Yiii', 'src_Latn', 'cbu_Latn', 'mzi_Latn', 'jav_Latn', 'abk_Cyrl', 'lua_Latn', 'cha_Latn', 'nan_Hani', 'fij_Latn', 'haw_Latn', 'kri_Latn', 'qvn_Latn', 'cbt_Latn', 'mah_Latn', 'fvr_Latn', 'kal_Latn', 'kjh_Cyrl', 'ven_Latn', 'lld_Latn', 'sah_Cyrl', 'pcd_Latn', 'amh_Ethi', 'bod_Tibt', 'zgh_Tfng', 'tbz_Latn', 'shk_Latn', 'som_Latn', 'mam_Latn', 'evn_Cyrl', 'cic_Latn', 'alt_Cyrl', 'vie_Latn', 'quz_Latn', 'srp_Latn', 'bem_Latn', 'slk_Latn', 'ndo_Latn', 'quc_Latn', 'amr_Latn', 'plt_Latn', 'guk_Latn', 'roh_Latn', 'fao_Latn', 'kbd_Cyrl', 'quy_Latn', 'deu_Latn', 'rmn_Latn', 'nhn_Latn', 'dyo_Latn', 'bre_Latn', 'fuv_Latn', 'ina_Latn', 'kaz_Cyrl', 'hsb_Latn', 'slv_Latn', 'dan_Latn', 'tca_Latn', 'lao_Laoo', 'swb_Latn', 'quh_Latn', 'mai_Deva', 'nav_Latn', 'dyu_Latn', 'bin_Latn', 'ajg_Latn', 'mad_Latn', 'kqs_Latn', 'ijs_Latn', 'fin_Latn', 'ady_Cyrl', 'kek_Latn', 'mxv_Latn', 'lin_Latn', 'prs_Arab', 'shp_Latn', 'dzo_Tibt', 'oss_Cyrl', 'chv_Cyrl', 'agr_Latn', 'tzo_Latn', 'hea_Latn', 'cpu_Latn', 'cak_Latn', 'min_Latn', 'khk_Cyrl', 'qvh_Latn', 'kqn_Latn', 'taj_Deva', 'hau_Latn', 'zul_Latn', 'kha_Latn', 'gaa_Latn', 'smo_Latn', 'gla_Latn', 'jpn_Jpan', 'ike_Cans', 'cot_Latn', 'maz_Latn', 'rgn_Latn', 'bfa_Latn', 'gld_Cyrl', 'tat_Cyrl', 'ccp_Cakm', 'piu_Latn', 'aar_Latn', 'tah_Latn', 'kbr_Latn', 'gaz_Latn', 'pau_Latn', 'sin_Sinh', 'bcl_Latn', 'war_Latn', 'cab_Latn', 'kir_Cyrl', 'azj_Latn', 'bci_Latn', 'ura_Latn', 'ukr_Cyrl', 'zam_Latn', 'rup_Latn', 'sun_Latn', 'mag_Deva', 'xsm_Latn', 'tso_Latn', 'ykg_Cyrl', 'hil_Latn', 'nio_Cyrl', 'cjk_Latn', 'ban_Latn', 'guc_Latn', 'tyv_Cyrl', 'sna_Latn', 'amc_Latn', 'tur_Latn', 'slr_Latn', 'afr_Latn', 'mal_Mlym', 'udu_Latn', 'ilo_Latn', 'hsn_Hani', 'div_Thaa', 'lue_Latn', 'loz_Latn', 'crh_Latn', 'uig_Arab', 'lvs_Latn', 'bug_Latn', 'not_Latn', 'arn_Latn', 'ctd_Latn', 'que_Latn', 'azj_Cyrl', 'dip_Latn', 'guj_Gujr', 'zyb_Latn', 'qva_Latn', 'dag_Latn', 'mar_Deva', 'zlm_Latn', 'duu_Latn', 'bis_Latn', 'gkp_Latn', 'bos_Latn', 'fur_Latn', 'vmw_Latn', 'sag_Latn', 'ami_Latn', 'heb_Hebr', 'lns_Latn', 'lus_Latn', 'tpi_Latn', 'sme_Latn', 'tuk_Latn', 'ote_Latn', 'kmr_Latn', 'yad_Latn', 'ese_Latn', 'yue_Hani', 'tet_Latn', 'nyn_Latn', 'shn_Mymr', 'rus_Cyrl', 'gan_Hani', 'glg_Latn', 'tdt_Latn', 'ton_Latn', 'kng_Latn', 'kab_Latn', 'nso_Latn']\n",
      "Number of languages in UDHR: 430\n",
      "['pnb_Arab', 'ido_Latn', 'hnj_Latn', 'pap_Latn', 'kan_Knda', 'npi_Deva', 'mor_Latn', 'gag_Latn', 'bba_Latn', 'vep_Latn', 'als_Latn', 'qwh_Latn', 'toj_Latn', 'kde_Latn', 'ell_Grek', 'fra_Latn', 'fon_Latn', 'zdj_Latn', 'tsz_Latn', 'cbr_Latn', 'kdh_Latn', 'lia_Latn', 'tly_Latn', 'pis_Latn', 'ydd_Hebr', 'bam_Latn', 'pan_Guru', 'tiv_Latn', 'ceb_Latn', 'koi_Cyrl', 'kaa_Cyrl', 'tzh_Latn', 'cnr_Latn', 'eng_Latn', 'pam_Latn', 'fuf_Latn', 'isl_Latn', 'bho_Deva', 'top_Latn', 'ron_Latn', 'lun_Latn', 'koo_Latn', 'sus_Latn', 'nzi_Latn', 'mri_Latn', 'umb_Latn', 'ast_Latn', 'arb_Arab', 'mcd_Latn', 'ces_Latn', 'chk_Latn', 'por_Latn', 'sot_Latn', 'qvc_Latn', 'xho_Latn', 'tha_Thai', 'fat_Latn', 'mfq_Latn', 'nob_Latn', 'boa_Latn', 'hun_Latn', 'tel_Telu', 'toi_Latn', 'ltz_Latn', 'knc_Latn', 'tam_Taml', 'gjn_Latn', 'dga_Latn', 'lij_Latn', 'cos_Latn', 'swe_Latn', 'jiv_Latn', 'cnh_Latn', 'spa_Latn', 'ewe_Latn', 'huu_Latn', 'tgk_Cyrl', 'lug_Latn', 'epo_Latn', 'chj_Latn', 'snn_Latn', 'qug_Latn', 'jav_Java', 'hak_Hani', 'cjs_Cyrl', 'gug_Latn', 'bum_Latn', 'tuk_Cyrl', 'pon_Latn', 'run_Latn', 'ita_Latn', 'lob_Latn', 'hrv_Latn', 'rar_Latn', 'fkv_Latn', 'san_Deva', 'ben_Beng', 'mos_Latn', 'srr_Latn', 'pov_Latn', 'wuu_Hani', 'pol_Latn', 'ekk_Latn', 'lit_Latn', 'srp_Cyrl', 'men_Latn', 'ame_Latn', 'lat_Latn', 'ojb_Cans', 'nbl_Latn', 'nya_Latn', 'cof_Latn', 'suk_Latn', 'uzn_Latn', 'chr_Cher', 'cat_Latn', 'ktu_Latn', 'nld_Latn', 'krl_Latn', 'dje_Latn', 'mic_Latn', 'sey_Latn', 'cmn_Hani', 'eus_Latn', 'tob_Latn', 'qxn_Latn', 'hus_Latn', 'gle_Latn', 'hye_Armn', 'wln_Latn', 'kmb_Latn', 'pcm_Latn', 'gej_Latn', 'uig_Latn', 'tir_Ethi', 'lad_Latn', 'cfm_Latn', 'ayr_Latn', 'miq_Latn', 'cym_Latn', 'cbi_Latn', 'swh_Latn', 'uzn_Cyrl', 'acu_Latn', 'niu_Latn', 'urd_Arab', 'tzm_Tfng', 'nba_Latn', 'ada_Latn', 'kbp_Latn', 'bel_Cyrl', 'gsw_Latn', 'nno_Latn', 'kea_Latn', 'kor_Hang', 'eve_Cyrl', 'cbs_Latn', 'yor_Latn', 'kat_Geor', 'wol_Latn', 'ace_Latn', 'pbb_Latn', 'yap_Latn', 'aii_Syrc', 'mnw_Mymr', 'bul_Cyrl', 'guu_Latn', 'yrk_Cyrl', 'mto_Latn', 'qvm_Latn', 'wwa_Latn', 'skr_Arab', 'vec_Latn', 'glv_Latn', 'cni_Latn', 'mkd_Cyrl', 'yua_Latn', 'tsn_Latn', 'hat_Latn', 'hlt_Latn', 'fry_Latn', 'idu_Latn', 'ibo_Latn', 'mcf_Latn', 'oci_Latn', 'sco_Latn', 'ind_Latn', 'ddn_Latn', 'kwi_Latn', 'sid_Latn', 'mya_Mymr', 'csw_Cans', 'khm_Khmr', 'njo_Latn', 'kin_Latn', 'arl_Latn', 'yao_Latn', 'twi_Latn', 'ssw_Latn', 'crs_Latn', 'nds_Latn', 'tem_Latn', 'hin_Deva', 'mlt_Latn', 'gyr_Latn', 'auc_Latn', 'cri_Latn', 'hns_Latn', 'cbu_Latn', 'jav_Latn', 'abk_Cyrl', 'lua_Latn', 'cha_Latn', 'nan_Hani', 'fij_Latn', 'haw_Latn', 'kri_Latn', 'qvn_Latn', 'cbt_Latn', 'mah_Latn', 'kal_Latn', 'kjh_Cyrl', 'ven_Latn', 'lld_Latn', 'sah_Cyrl', 'pcd_Latn', 'amh_Ethi', 'bod_Tibt', 'zgh_Tfng', 'tbz_Latn', 'shk_Latn', 'som_Latn', 'mam_Latn', 'alt_Cyrl', 'vie_Latn', 'quz_Latn', 'srp_Latn', 'bem_Latn', 'slk_Latn', 'ndo_Latn', 'quc_Latn', 'amr_Latn', 'plt_Latn', 'roh_Latn', 'fao_Latn', 'kbd_Cyrl', 'quy_Latn', 'deu_Latn', 'rmn_Latn', 'dyo_Latn', 'bre_Latn', 'fuv_Latn', 'ina_Latn', 'kaz_Cyrl', 'hsb_Latn', 'slv_Latn', 'dan_Latn', 'tca_Latn', 'lao_Laoo', 'swb_Latn', 'quh_Latn', 'mai_Deva', 'nav_Latn', 'dyu_Latn', 'bin_Latn', 'ajg_Latn', 'mad_Latn', 'kqs_Latn', 'fin_Latn', 'ady_Cyrl', 'kek_Latn', 'mxv_Latn', 'lin_Latn', 'shp_Latn', 'dzo_Tibt', 'oss_Cyrl', 'chv_Cyrl', 'agr_Latn', 'tzo_Latn', 'cpu_Latn', 'cak_Latn', 'min_Latn', 'khk_Cyrl', 'qvh_Latn', 'kqn_Latn', 'taj_Deva', 'hau_Latn', 'zul_Latn', 'kha_Latn', 'gaa_Latn', 'smo_Latn', 'gla_Latn', 'jpn_Jpan', 'ike_Cans', 'cot_Latn', 'maz_Latn', 'tat_Cyrl', 'tah_Latn', 'kbr_Latn', 'gaz_Latn', 'pau_Latn', 'sin_Sinh', 'bcl_Latn', 'war_Latn', 'cab_Latn', 'kir_Cyrl', 'azj_Latn', 'bci_Latn', 'ura_Latn', 'ukr_Cyrl', 'zam_Latn', 'rup_Latn', 'sun_Latn', 'mag_Deva', 'xsm_Latn', 'tso_Latn', 'hil_Latn', 'nio_Cyrl', 'cjk_Latn', 'ban_Latn', 'guc_Latn', 'tyv_Cyrl', 'sna_Latn', 'tur_Latn', 'afr_Latn', 'mal_Mlym', 'udu_Latn', 'ilo_Latn', 'div_Thaa', 'lue_Latn', 'loz_Latn', 'crh_Latn', 'uig_Arab', 'lvs_Latn', 'bug_Latn', 'not_Latn', 'arn_Latn', 'ctd_Latn', 'azj_Cyrl', 'dip_Latn', 'guj_Gujr', 'zyb_Latn', 'qva_Latn', 'dag_Latn', 'mar_Deva', 'bis_Latn', 'bos_Latn', 'fur_Latn', 'vmw_Latn', 'sag_Latn', 'ami_Latn', 'heb_Hebr', 'lus_Latn', 'tpi_Latn', 'sme_Latn', 'tuk_Latn', 'ote_Latn', 'kmr_Latn', 'yad_Latn', 'ese_Latn', 'yue_Hani', 'tet_Latn', 'nyn_Latn', 'shn_Mymr', 'rus_Cyrl', 'glg_Latn', 'tdt_Latn', 'ton_Latn', 'kng_Latn', 'kab_Latn', 'nso_Latn']\n",
      "Number of languages in the intersection: 371\n"
     ]
    }
   ],
   "source": [
    "# To reproduce prior work, macro averages must be computed on the intersection L = intersection of languages of GlotLID-M and languages present in UDHR\n",
    "\n",
    "# Create a list of GlotLID languages\n",
    "languages_glotlid = pd.read_csv('languages_glotlid.csv', header=None)[0].tolist()\n",
    "print(languages_glotlid)\n",
    "print(f\"Number of languages in GlotLID: {len(languages_glotlid)}\")\n",
    "\n",
    "# Create a list of UDHR languages\n",
    "languages_udhr = list(set(udhr['iso_script']))\n",
    "print(languages_udhr)\n",
    "print(f\"Number of languages in UDHR: {len(languages_udhr)}\")\n",
    "\n",
    "# Get the intersection\n",
    "languages_intersection = list(set(languages_glotlid) & set(languages_udhr))\n",
    "print(languages_intersection)\n",
    "print(f\"Number of languages in the intersection: {len(languages_intersection)}\")"
   ]
  },
  {
   "cell_type": "code",
   "execution_count": null,
   "id": "5d5d1657",
   "metadata": {},
   "outputs": [
    {
     "name": "stdout",
     "output_type": "stream",
     "text": [
      "        label  f1_score  precision_score  recall_score  false_positive_rate\n",
      "0    pnb_Arab  0.748466         0.598039      1.000000             0.001480\n",
      "1    ido_Latn  1.000000         1.000000      1.000000             0.000000\n",
      "2    hnj_Latn  0.000000         0.000000      0.000000             0.000000\n",
      "3    pap_Latn  0.943089         0.892308      1.000000             0.000253\n",
      "4    kan_Knda  1.000000         1.000000      1.000000             0.000000\n",
      "..        ...       ...              ...           ...                  ...\n",
      "959  tdt_Latn  0.662651         0.504587      0.964912             0.001949\n",
      "961  ton_Latn  0.991736         0.983607      1.000000             0.000036\n",
      "964  kng_Latn  0.191617         0.307692      0.139130             0.001302\n",
      "965  kab_Latn  0.957983         0.934426      0.982759             0.000144\n",
      "966  nso_Latn  1.000000         1.000000      1.000000             0.000000\n",
      "\n",
      "[371 rows x 5 columns]\n",
      "Averaged result DataFrame (computed on languages present in both GlotLID and UDHR datasets):\n",
      "f1_score               0.850411\n",
      "precision_score        0.874083\n",
      "recall_score           0.864173\n",
      "false_positive_rate    0.000221\n",
      "dtype: float64\n"
     ]
    }
   ],
   "source": [
    "# Filter results\n",
    "result_udhr_glotlid_filt = result_udhr_glotlid[result_udhr_glotlid['label'].isin(languages_intersection)]\n",
    "print(result_udhr_glotlid_filt)\n",
    "\n",
    "# Compute the macro averages on the filtered results\n",
    "average_udhr_glotlid_filt = result_udhr_glotlid_filt.drop(columns=['label']).mean()\n",
    "print(\"Averaged result DataFrame (computed on languages present in both GlotLID and UDHR datasets):\")\n",
    "print(average_udhr_glotlid_filt)\n"
   ]
  },
  {
   "cell_type": "markdown",
   "id": "508b3c73",
   "metadata": {},
   "source": [
    "## 2. Baselines on UDHR"
   ]
  },
  {
   "cell_type": "code",
   "execution_count": null,
   "id": "725de910",
   "metadata": {},
   "outputs": [],
   "source": [
    "# Imports\n",
    "import baselines"
   ]
  },
  {
   "cell_type": "code",
   "execution_count": 109,
   "id": "8a71abfa",
   "metadata": {},
   "outputs": [
    {
     "data": {
      "text/plain": [
       "('kir-Cyrl', 0.7191885113716125)"
      ]
     },
     "execution_count": 109,
     "metadata": {},
     "output_type": "execute_result"
    }
   ],
   "source": [
    "# Load the model\n",
    "CLD3 = baselines.CLD3()\n",
    "\n",
    "# First prediction\n",
    "CLD3.predict_lang_with_confidence(\"Hello, world!\")"
   ]
  },
  {
   "cell_type": "code",
   "execution_count": null,
   "id": "339b84f5",
   "metadata": {},
   "outputs": [
    {
     "name": "stdout",
     "output_type": "stream",
     "text": [
      "   iso_script                                           sentence iso639-3  \\\n",
      "0    tir_Ethi  ሕድሕድ ኦብ ስራሕ ዝርከብ ሰብ ሰብኦዊ ክብሩን ክብሪ ቤተሰቡን ዝሕለወሉ ...      tir   \n",
      "1    tir_Ethi  ሕድሕድ ሰብ ከቢድ ስቓይ ዘውርድ፣ ጭካነ ዝመልኦ፣ ኢሰብኦዊ ወይ ሰብኦዊ ...      tir   \n",
      "2    tir_Ethi  ሕድሕድ ሰብ መሰሉን ግቡእን፣ ከምኡ’ውን ንዝቐርበሉ ዝኾነ ይኹን ገበናዊ ...      tir   \n",
      "3    tir_Ethi  ንዓቕመ ኦዳምን ሄዋንን ዝበፅሑ ደቂ ተባዕትዮን ደቂ ኦንስትዮን ዘርኢ፣ ዜ...      tir   \n",
      "4    tir_Ethi                       ሕድሕድ ሰብ ብማሕበር ንኽውደብ ኦይግደድን፡፡      tir   \n",
      "5    tir_Ethi  እዞም መሰላትን ነፃነታትን እዚኦቶም ብዝኾነ ይኹን መንገዲ ኦንፃር ዕላማታ...      tir   \n",
      "6    tir_Ethi  ሕድሕድ ሰብ ኦብ ውሽጢ ዝነብሪሉ ሃገር ናይ ምዝውዋርን ምንባርን መሰል ኦ...      tir   \n",
      "7    tir_Ethi  ሕድሕድ ሰብ ብባርነት ወይ ብጊልያነት ክግዛእ የብሉን፡፡ ባርነትን ናይ ባ...      tir   \n",
      "8    tir_Ethi  ሕድሕድ ሰብ ሓደ ነገር ኦብ ዝተፈፀመሉ እዋን ነቲ ጉዳይ ምፍፃም ወይ ዘይ...      tir   \n",
      "9    tir_Ethi  ሕድሕድ ሰብ ካብ ንህይወቱ ሓደገኛ ዝኾኑ ግፍዕታት ኦምሊጡ ኦብ ካልኦት ሃ...      tir   \n",
      "10   tir_Ethi  ሕድሕድ ሰብ ባዕሉ ካብ ዝፈጠሮ ሳይንሳዊ፣ ስነ ፅሑፋዊ ወይ ኪነታዊ ውፅኢ...      tir   \n",
      "11   tir_Ethi  ሕድሕድ ሰብ ብቀጥታ ወይ ብነፃ መሪፃ ብዝተመሪፁ ወከልቱ ኦቢሉ ኦብ መንግ...      tir   \n",
      "12   tir_Ethi  ዝኾነ ይኹን ሰብ ነቲ ብሕታዊ መሪጋገፂ ነፃን ዝተማልኣን ምዕባለ ሰብኦዊ ...      tir   \n",
      "13   tir_Ethi  ሕድሕድ ሰብ ሪብሓታቱ ንምርግጋፅ ማሕበራዊ ሞያ ናይ ምጥያሽን ኦባል ናይ ...      tir   \n",
      "14   tir_Ethi  ካብ ውሽጢ እዚ ድንጋገ እዚ ዝኾነ ይኹን መንግስቲ፣ ጉጅለ ወይ ውልቀ ሰብ...      tir   \n",
      "15   tir_Ethi  ሕድሕድ ሰብ ንጥዕናን ድሕነትን ዓርሱን ቤተሰቡን ዝበቅዕ ደሪጃ መነባብሮ ...      tir   \n",
      "16   tir_Ethi  ዝኾነ ይኹን ሰብ ኦብዚ ድንጋገ እዚ ዝሰፈሩ መሰላትን ነፃነታትን ዝሪጋገፀ...      tir   \n",
      "17   tir_Ethi                     ሕድሕድ ሰብ ዜግነት ናይ ምርካብ መሰል ኦለዎ፡፡      tir   \n",
      "18   tir_Ethi  ሕድሕድ ሰብ ናይ ስራሕ ሰዓት ዕሪፍቲ፣ ናይ መዘናግዒ ጊዜ፣ ከምኡ’ውን ፍ...      tir   \n",
      "19   tir_Ethi  ሕድሕድ ሰብ ብሕጊ ካብ ዝተደንገገ ስርዓት ወፃኢ ኦይእሰርን፣ ኦይተሓዝን ...      tir   \n",
      "\n",
      "   iso15924  language  top_pred  \n",
      "0      Ethi  Tigrinya  amh-Ethi  \n",
      "1      Ethi  Tigrinya  amh-Ethi  \n",
      "2      Ethi  Tigrinya  amh-Ethi  \n",
      "3      Ethi  Tigrinya  amh-Ethi  \n",
      "4      Ethi  Tigrinya  amh-Ethi  \n",
      "5      Ethi  Tigrinya  amh-Ethi  \n",
      "6      Ethi  Tigrinya  amh-Ethi  \n",
      "7      Ethi  Tigrinya  amh-Ethi  \n",
      "8      Ethi  Tigrinya  amh-Ethi  \n",
      "9      Ethi  Tigrinya  amh-Ethi  \n",
      "10     Ethi  Tigrinya  amh-Ethi  \n",
      "11     Ethi  Tigrinya  amh-Ethi  \n",
      "12     Ethi  Tigrinya  amh-Ethi  \n",
      "13     Ethi  Tigrinya  amh-Ethi  \n",
      "14     Ethi  Tigrinya  amh-Ethi  \n",
      "15     Ethi  Tigrinya  amh-Ethi  \n",
      "16     Ethi  Tigrinya  amh-Ethi  \n",
      "17     Ethi  Tigrinya  amh-Ethi  \n",
      "18     Ethi  Tigrinya  amh-Ethi  \n",
      "19     Ethi  Tigrinya  amh-Ethi  \n"
     ]
    }
   ],
   "source": [
    "# Apply the model to predict labels\n",
    "udhr_cld3_pred = udhr\n",
    "udhr_cld3_pred['top_pred'] = udhr_cld3_pred['sentence'].apply(lambda x: CLD3.predict_lang_with_confidence(x)[0])\n",
    "print(udhr_cld3_pred.head(100))"
   ]
  },
  {
   "cell_type": "code",
   "execution_count": null,
   "id": "9f94ee5e",
   "metadata": {},
   "outputs": [
    {
     "name": "stdout",
     "output_type": "stream",
     "text": [
      "Result DataFrame:\n",
      "        label  f1_score  precision_score  recall_score  false_positive_rate\n",
      "0    pnb_Arab       0.0              0.0           0.0              0.00000\n",
      "1    ido_Latn       0.0              0.0           0.0              0.00000\n",
      "2    hnj_Latn       0.0              0.0           0.0              0.00000\n",
      "3    pap_Latn       0.0              0.0           0.0              0.00000\n",
      "4    kan_Knda       0.0              0.0           0.0              0.00000\n",
      "..        ...       ...              ...           ...                  ...\n",
      "533  ton_Latn       0.0              0.0           0.0              0.00000\n",
      "534  ltz-Latn       0.0              0.0           0.0              0.00562\n",
      "535  kng_Latn       0.0              0.0           0.0              0.00000\n",
      "536  kab_Latn       0.0              0.0           0.0              0.00000\n",
      "537  nso_Latn       0.0              0.0           0.0              0.00000\n",
      "\n",
      "[538 rows x 5 columns]\n"
     ]
    },
    {
     "name": "stderr",
     "output_type": "stream",
     "text": [
      "/opt/conda/lib/python3.12/site-packages/sklearn/metrics/_classification.py:1565: UndefinedMetricWarning: Precision is ill-defined and being set to 0.0 in labels with no predicted samples. Use `zero_division` parameter to control this behavior.\n",
      "  _warn_prf(average, modifier, f\"{metric.capitalize()} is\", len(result))\n",
      "/opt/conda/lib/python3.12/site-packages/sklearn/metrics/_classification.py:1565: UndefinedMetricWarning: Recall is ill-defined and being set to 0.0 in labels with no true samples. Use `zero_division` parameter to control this behavior.\n",
      "  _warn_prf(average, modifier, f\"{metric.capitalize()} is\", len(result))\n"
     ]
    }
   ],
   "source": [
    "# Compute F1 and false positive rate\n",
    "result_udhr_cld3 = compute_f1_false_positive(udhr_cld3_pred)\n",
    "\n",
    "print(\"Result DataFrame:\")\n",
    "print(result_udhr_cld3)\n",
    "\n",
    "# PROBLEME : tous les f1_score sont = 0 -> pb dans les labels ? "
   ]
  },
  {
   "cell_type": "code",
   "execution_count": null,
   "id": "a5dfc484",
   "metadata": {},
   "outputs": [],
   "source": [
    "# To reproduce prior work, macro averages must be computed on the intersection L = intersection of languages of CLD3 and languages present in UDHR\n",
    "# We already have languages in UDHR, we just have to retrieve languages present in CLD3 \n",
    "\n",
    "# Create a list of CLD3 languages\n",
    "# languages_cld3 = ??\n",
    "print(languages_cld3)\n",
    "print(f\"Number of languages in CLD3: {len(languages_cld3)}\")\n",
    "\n",
    "# Get the intersection\n",
    "languages_intersection = list(set(languages_cld3) & set(languages_udhr))\n",
    "print(languages_intersection)\n",
    "print(f\"Number of languages in the intersection: {len(languages_intersection)}\")"
   ]
  },
  {
   "cell_type": "code",
   "execution_count": null,
   "id": "25584814",
   "metadata": {},
   "outputs": [],
   "source": [
    "# Filter results\n",
    "result_udhr_cld3_filt = result_udhr_cld3[result_udhr_cld3['label'].isin(languages_intersection)]\n",
    "print(result_udhr_cld3_filt)\n",
    "\n",
    "# Compute the macro averages on the filtered results\n",
    "average_udhr_cld3_filt = result_udhr_cld3_filt.drop(columns=['label']).mean()\n",
    "print(\"Averaged result DataFrame (computed on languages present in both CLD3 and UDHR datasets):\")\n",
    "print(average_udhr_cld3_filt)\n"
   ]
  },
  {
   "cell_type": "markdown",
   "id": "2cf37739",
   "metadata": {},
   "source": [
    "## TO DO "
   ]
  },
  {
   "cell_type": "markdown",
   "id": "a3e1a8cf",
   "metadata": {},
   "source": [
    "- Tester sur le test set 2 : FLORES\n",
    "- Trouver comment tester sur le glotlid-corpus : le charger en entier (si possible) + le mettre dans le bon format (un seul df)\n",
    "- Tester les modèles baselines sur les 3 datasets (avec les deux méthodes SET? / SET! ? en utilisant customlid.py pour la méthode SET! je crois)"
   ]
  }
 ],
 "metadata": {
  "kernelspec": {
   "display_name": "base",
   "language": "python",
   "name": "python3"
  },
  "language_info": {
   "codemirror_mode": {
    "name": "ipython",
    "version": 3
   },
   "file_extension": ".py",
   "mimetype": "text/x-python",
   "name": "python",
   "nbconvert_exporter": "python",
   "pygments_lexer": "ipython3",
   "version": "3.12.9"
  }
 },
 "nbformat": 4,
 "nbformat_minor": 5
}
