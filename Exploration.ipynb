{
 "cells": [
  {
   "cell_type": "markdown",
   "id": "d324bc45",
   "metadata": {},
   "source": [
    "## 1. GlotLID-M on UDHR-LID"
   ]
  },
  {
   "cell_type": "markdown",
   "id": "06355203",
   "metadata": {},
   "source": [
    "On fixe le threshold $\\theta = 0.5$ pour tous les modèles"
   ]
  },
  {
   "cell_type": "code",
   "execution_count": 1,
   "id": "de89a59b",
   "metadata": {},
   "outputs": [
    {
     "name": "stderr",
     "output_type": "stream",
     "text": [
      "/usr/local/lib/python3.12/site-packages/tqdm/auto.py:21: TqdmWarning: IProgress not found. Please update jupyter and ipywidgets. See https://ipywidgets.readthedocs.io/en/stable/user_install.html\n",
      "  from .autonotebook import tqdm as notebook_tqdm\n"
     ]
    },
    {
     "name": "stdout",
     "output_type": "stream",
     "text": [
      "Result DataFrame:\n",
      "      label  f1_score  precision_score  recall_score  false_positive_rate\n",
      "0  fas_Arab  0.000000              0.0           0.0             0.333333\n",
      "1  eng_Latn  0.666667              0.5           1.0             0.500000\n",
      "2  spa_Latn  0.000000              0.0           0.0             0.000000\n",
      "3  fra_Latn  0.000000              0.0           0.0             0.000000\n"
     ]
    },
    {
     "name": "stderr",
     "output_type": "stream",
     "text": [
      "/usr/local/lib/python3.12/site-packages/sklearn/metrics/_classification.py:1565: UndefinedMetricWarning: Precision is ill-defined and being set to 0.0 in labels with no predicted samples. Use `zero_division` parameter to control this behavior.\n",
      "  _warn_prf(average, modifier, f\"{metric.capitalize()} is\", len(result))\n",
      "/usr/local/lib/python3.12/site-packages/sklearn/metrics/_classification.py:1565: UndefinedMetricWarning: Recall is ill-defined and being set to 0.0 in labels with no true samples. Use `zero_division` parameter to control this behavior.\n",
      "  _warn_prf(average, modifier, f\"{metric.capitalize()} is\", len(result))\n"
     ]
    }
   ],
   "source": [
    "# Imports\n",
    "import fasttext\n",
    "from huggingface_hub import hf_hub_download\n",
    "from datasets import load_dataset\n",
    "import pandas as pd\n",
    "from metrics import compute_f1_false_positive"
   ]
  },
  {
   "cell_type": "code",
   "execution_count": null,
   "id": "3400fc7d",
   "metadata": {},
   "outputs": [
    {
     "name": "stdout",
     "output_type": "stream",
     "text": [
      "model path: /home/onyxia/.cache/huggingface/hub/models--cis-lmu--glotlid/snapshots/74cb50b709c9eefe0f790030c6c95c461b4e3b77/model.bin\n"
     ]
    }
   ],
   "source": [
    "# Load the model\n",
    "model_path_glotlid = hf_hub_download(repo_id=\"cis-lmu/glotlid\", filename=\"model.bin\", cache_dir=None)\n",
    "glotlid_m = fasttext.load_model(model_path_glotlid)"
   ]
  },
  {
   "cell_type": "code",
   "execution_count": null,
   "id": "7421c301",
   "metadata": {},
   "outputs": [
    {
     "data": {
      "text/plain": [
       "(('__label__eng_Latn',), array([0.99637443]))"
      ]
     },
     "execution_count": 76,
     "metadata": {},
     "output_type": "execute_result"
    }
   ],
   "source": [
    "# First test\n",
    "glotlid_m.predict(\"Hello, world!\")\n",
    "# (('__label__eng_Latn',), array([0.99850202]))"
   ]
  },
  {
   "cell_type": "code",
   "execution_count": null,
   "id": "c712afc2",
   "metadata": {},
   "outputs": [
    {
     "name": "stdout",
     "output_type": "stream",
     "text": [
      "{'id': 'tir_Ethi', 'sentence': 'ሕድሕድ ኦብ ስራሕ ዝርከብ ሰብ ሰብኦዊ ክብሩን ክብሪ ቤተሰቡን ዝሕለወሉ ኦድላዪ እንተኾይኑ’ውን ብካልኦት ማሕበራዊ ውሕስነታት ዝድገፍ ፍትሓውን ዘተባብዕን ፃማ ሪሃፁ ናይ ምርካብ መሰል ኦለዎ፡፡', 'iso639-3': 'tir', 'iso15924': 'Ethi', 'language': 'Tigrinya'}\n"
     ]
    }
   ],
   "source": [
    "# Load test dataset : UDHR - clean version for LID\n",
    "udhr = load_dataset('cis-lmu/udhr-lid', split='test')\n",
    "\n",
    "udhr = pd.DataFrame(udhr)\n",
    "udhr = udhr.rename(columns={'id': 'iso_script'})\n",
    "print(udhr.head())"
   ]
  },
  {
   "cell_type": "code",
   "execution_count": 79,
   "id": "a4f231c0",
   "metadata": {},
   "outputs": [
    {
     "name": "stdout",
     "output_type": "stream",
     "text": [
      "  iso_script                                           sentence iso639-3  \\\n",
      "0   tir_Ethi  ሕድሕድ ኦብ ስራሕ ዝርከብ ሰብ ሰብኦዊ ክብሩን ክብሪ ቤተሰቡን ዝሕለወሉ ...      tir   \n",
      "1   tir_Ethi  ሕድሕድ ሰብ ከቢድ ስቓይ ዘውርድ፣ ጭካነ ዝመልኦ፣ ኢሰብኦዊ ወይ ሰብኦዊ ...      tir   \n",
      "2   tir_Ethi  ሕድሕድ ሰብ መሰሉን ግቡእን፣ ከምኡ’ውን ንዝቐርበሉ ዝኾነ ይኹን ገበናዊ ...      tir   \n",
      "3   tir_Ethi  ንዓቕመ ኦዳምን ሄዋንን ዝበፅሑ ደቂ ተባዕትዮን ደቂ ኦንስትዮን ዘርኢ፣ ዜ...      tir   \n",
      "4   tir_Ethi                       ሕድሕድ ሰብ ብማሕበር ንኽውደብ ኦይግደድን፡፡      tir   \n",
      "\n",
      "  iso15924  language  top_pred  \n",
      "0     Ethi  Tigrinya  tir_Ethi  \n",
      "1     Ethi  Tigrinya  tir_Ethi  \n",
      "2     Ethi  Tigrinya  tir_Ethi  \n",
      "3     Ethi  Tigrinya  tir_Ethi  \n",
      "4     Ethi  Tigrinya  tir_Ethi  \n"
     ]
    }
   ],
   "source": [
    "# Apply the model to predict labels\n",
    "\n",
    "def get_glotlid_pred(x, threshold=0.5):\n",
    "    pred, score = glotlid_m.predict(x)\n",
    "    if score >= threshold:\n",
    "        return pred[0].replace(\"__label__\",\"\")\n",
    "    else:\n",
    "        return 'undetermined'\n",
    "\n",
    "udhr_glotlid_pred = pd.DataFrame(udhr)\n",
    "\n",
    "udhr_glotlid_pred['top_pred'] = udhr_glotlid_pred['sentence'].apply(get_glotlid_pred)\n",
    "\n",
    "print(udhr_glotlid_pred.head())\n"
   ]
  },
  {
   "cell_type": "code",
   "execution_count": 31,
   "id": "3b66c556",
   "metadata": {},
   "outputs": [
    {
     "name": "stdout",
     "output_type": "stream",
     "text": [
      "Result DataFrame:\n",
      "        label  f1_score  precision_score  recall_score  false_positive_rate\n",
      "0    emk_Latn  0.000000         0.000000      0.000000             0.000000\n",
      "1    keo_Latn  0.000000         0.000000      0.000000             0.001009\n",
      "2    aii_Syrc  0.000000         0.000000      0.000000             0.000000\n",
      "3    cme_Latn  0.000000         0.000000      0.000000             0.000036\n",
      "4    sey_Latn  0.526316         0.371622      0.901639             0.003358\n",
      "..        ...       ...              ...           ...                  ...\n",
      "751  plt_Latn  1.000000         1.000000      1.000000             0.000000\n",
      "752  cot_Latn  0.991597         1.000000      0.983333             0.000000\n",
      "753  zpo_Latn  0.000000         0.000000      0.000000             0.000072\n",
      "754  dur_Latn  0.000000         0.000000      0.000000             0.000216\n",
      "755  stp_Latn  0.000000         0.000000      0.000000             0.000072\n",
      "\n",
      "[756 rows x 5 columns]\n"
     ]
    },
    {
     "name": "stderr",
     "output_type": "stream",
     "text": [
      "/usr/local/lib/python3.12/site-packages/sklearn/metrics/_classification.py:1565: UndefinedMetricWarning: Precision is ill-defined and being set to 0.0 in labels with no predicted samples. Use `zero_division` parameter to control this behavior.\n",
      "  _warn_prf(average, modifier, f\"{metric.capitalize()} is\", len(result))\n",
      "/usr/local/lib/python3.12/site-packages/sklearn/metrics/_classification.py:1565: UndefinedMetricWarning: Recall is ill-defined and being set to 0.0 in labels with no true samples. Use `zero_division` parameter to control this behavior.\n",
      "  _warn_prf(average, modifier, f\"{metric.capitalize()} is\", len(result))\n"
     ]
    }
   ],
   "source": [
    "# Compute F1 and false positive rate\n",
    "result_udhr_glotlid = compute_f1_false_positive(udhr_glotlid_pred)\n",
    "\n",
    "print(\"Result DataFrame:\")\n",
    "print(result_udhr_glotlid)"
   ]
  },
  {
   "cell_type": "code",
   "execution_count": 32,
   "id": "64d3fb00",
   "metadata": {},
   "outputs": [
    {
     "name": "stdout",
     "output_type": "stream",
     "text": [
      "Averaged result DataFrame:\n",
      "f1_score               0.418994\n",
      "precision_score        0.434400\n",
      "recall_score           0.421252\n",
      "false_positive_rate    0.000348\n",
      "dtype: float64\n"
     ]
    }
   ],
   "source": [
    "# Compute average results\n",
    "average_udhr_glotlid = result_udhr_glotlid.drop(columns=['label']).mean()\n",
    "print(\"Averaged result DataFrame:\")\n",
    "print(average_udhr_glotlid)"
   ]
  },
  {
   "cell_type": "code",
   "execution_count": 33,
   "id": "60500f8d",
   "metadata": {},
   "outputs": [
    {
     "name": "stdout",
     "output_type": "stream",
     "text": [
      "['aai_Latn', 'aak_Latn', 'aau_Latn', 'aaz_Latn', 'aba_Latn', 'abi_Latn', 'abk_Cyrl', 'abn_Latn', 'abq_Cyrl', 'abs_Latn', 'abt_Latn', 'abx_Latn', 'aby_Latn', 'abz_Latn', 'aca_Latn', 'acd_Latn', 'ace_Arab', 'ace_Latn', 'acf_Latn', 'ach_Latn', 'acm_Arab', 'acn_Latn', 'acr_Latn', 'acu_Latn', 'ada_Latn', 'ade_Latn', 'adh_Latn', 'adi_Latn', 'adj_Latn', 'adl_Latn', 'ady_Cyrl', 'adz_Latn', 'aeb_Arab', 'aer_Latn', 'aeu_Latn', 'aey_Latn', 'afr_Latn', 'agd_Latn', 'agg_Latn', 'agm_Latn', 'agn_Latn', 'agr_Latn', 'agt_Latn', 'agu_Latn', 'agw_Latn', 'agx_Cyrl', 'aha_Latn', 'ahk_Latn', 'aia_Latn', 'aii_Syrc', 'aim_Latn', 'ain_Latn', 'ajg_Latn', 'aji_Latn', 'ajp_Arab', 'ajz_Latn', 'akb_Latn', 'ake_Latn', 'akh_Latn', 'akp_Latn', 'ald_Latn', 'alj_Latn', 'aln_Latn', 'alp_Latn', 'alq_Latn', 'als_Latn', 'alt_Cyrl', 'aly_Latn', 'alz_Latn', 'ame_Latn', 'amf_Latn', 'amh_Ethi', 'ami_Latn', 'amk_Latn', 'amm_Latn', 'amn_Latn', 'amp_Latn', 'amr_Latn', 'amu_Latn', 'amx_Latn', 'ang_Latn', 'anm_Latn', 'ann_Latn', 'anp_Deva', 'anv_Latn', 'any_Latn', 'aoi_Latn', 'aoj_Latn', 'aom_Latn', 'aoz_Latn', 'apb_Latn', 'apc_Arab', 'ape_Latn', 'apn_Latn', 'apr_Latn', 'apt_Latn', 'apu_Latn', 'apw_Latn', 'apy_Latn', 'apz_Latn', 'aqz_Latn', 'arb_Arab', 'arb_Latn', 'are_Latn', 'arg_Latn', 'arl_Latn', 'arn_Latn', 'arp_Latn', 'arq_Arab', 'arr_Latn', 'ars_Arab', 'ary_Arab', 'arz_Arab', 'asg_Latn', 'asm_Beng', 'asm_Latn', 'aso_Latn', 'ast_Latn', 'ata_Latn', 'atb_Latn', 'atd_Latn', 'atg_Latn', 'ati_Latn', 'atj_Latn', 'atq_Latn', 'att_Latn', 'auc_Latn', 'aui_Latn', 'auy_Latn', 'ava_Cyrl', 'avk_Latn', 'avn_Latn', 'avt_Latn', 'avu_Latn', 'awa_Deva', 'awb_Latn', 'awi_Latn', 'awx_Latn', 'ayo_Latn', 'ayp_Arab', 'ayr_Latn', 'azb_Arab', 'azg_Latn', 'azj_Cyrl', 'azj_Latn', 'azz_Latn', 'bak_Cyrl', 'bam_Latn', 'ban_Latn', 'bao_Latn', 'bar_Latn', 'bas_Latn', 'bav_Latn', 'bba_Latn', 'bbb_Latn', 'bbc_Latn', 'bbj_Latn', 'bbk_Latn', 'bbo_Latn', 'bbr_Latn', 'bcc_Arab', 'bch_Latn', 'bci_Latn', 'bcl_Latn', 'bco_Latn', 'bcw_Latn', 'bdd_Latn', 'bdh_Latn', 'bdq_Latn', 'bea_Latn', 'bef_Latn', 'bel_Cyrl', 'bem_Latn', 'ben_Beng', 'ben_Latn', 'beq_Latn', 'bew_Latn', 'bex_Latn', 'bfd_Latn', 'bfo_Latn', 'bgr_Latn', 'bgs_Latn', 'bgt_Latn', 'bgz_Latn', 'bhg_Latn', 'bhl_Latn', 'bho_Deva', 'bhp_Latn', 'bhw_Latn', 'bhz_Latn', 'bib_Latn', 'big_Latn', 'bim_Latn', 'bin_Latn', 'bis_Latn', 'biu_Latn', 'biv_Latn', 'bjn_Arab', 'bjn_Latn', 'bjp_Latn', 'bjr_Latn', 'bjv_Latn', 'bkd_Latn', 'bkl_Latn', 'bkq_Latn', 'bku_Latn', 'bkv_Latn', 'bla_Latn', 'blh_Latn', 'blk_Mymr', 'blt_Latn', 'blw_Latn', 'blz_Latn', 'bmh_Latn', 'bmk_Latn', 'bmq_Latn', 'bmr_Latn', 'bmu_Latn', 'bmv_Latn', 'bnj_Latn', 'bno_Latn', 'bnp_Latn', 'boa_Latn', 'bod_Tibt', 'boj_Latn', 'bom_Latn', 'bon_Latn', 'bor_Latn', 'bos_Latn', 'bov_Latn', 'box_Latn', 'bpr_Latn', 'bps_Latn', 'bpy_Beng', 'bqc_Latn', 'bqj_Latn', 'bqp_Latn', 'bre_Latn', 'brh_Arab', 'bru_Latn', 'brx_Deva', 'brx_Latn', 'bsc_Latn', 'bsn_Latn', 'bsp_Latn', 'bsq_Latn', 'bss_Latn', 'btd_Latn', 'bth_Latn', 'bts_Latn', 'btt_Latn', 'btx_Latn', 'bud_Latn', 'bug_Latn', 'buk_Latn', 'bul_Cyrl', 'bum_Latn', 'bus_Latn', 'bvc_Latn', 'bvd_Latn', 'bvr_Latn', 'bvz_Latn', 'bwd_Latn', 'bwi_Latn', 'bwq_Latn', 'bwu_Latn', 'bxh_Latn', 'bxr_Cyrl', 'byr_Latn', 'byv_Latn', 'byx_Latn', 'bzd_Latn', 'bzh_Latn', 'bzi_Thai', 'bzj_Latn', 'caa_Latn', 'cab_Latn', 'cac_Latn', 'caf_Latn', 'cag_Latn', 'cak_Latn', 'cao_Latn', 'cap_Latn', 'caq_Latn', 'car_Latn', 'cas_Latn', 'cat_Latn', 'cav_Latn', 'cax_Latn', 'cbc_Latn', 'cbi_Latn', 'cbk_Latn', 'cbr_Latn', 'cbs_Latn', 'cbt_Latn', 'cbu_Latn', 'cbv_Latn', 'cce_Latn', 'cco_Latn', 'ccp_Latn', 'cdf_Latn', 'ceb_Latn', 'ceg_Latn', 'cek_Latn', 'ces_Latn', 'cfm_Latn', 'cgc_Latn', 'cgg_Latn', 'cha_Latn', 'chd_Latn', 'che_Cyrl', 'chf_Latn', 'chj_Latn', 'chk_Latn', 'cho_Latn', 'chq_Latn', 'chr_Cher', 'chr_Latn', 'chu_Cyrl', 'chv_Cyrl', 'chw_Latn', 'chz_Latn', 'cjk_Latn', 'cjo_Latn', 'cjp_Latn', 'cjs_Cyrl', 'cjv_Latn', 'ckb_Arab', 'ckm_Latn', 'cko_Latn', 'ckt_Cyrl', 'cle_Latn', 'clu_Latn', 'cly_Latn', 'cme_Latn', 'cmn_Hani', 'cmo_Khmr', 'cmo_Latn', 'cmr_Latn', 'cnh_Latn', 'cni_Latn', 'cnk_Latn', 'cnl_Latn', 'cnr_Latn', 'cnt_Latn', 'cnw_Latn', 'coe_Latn', 'cof_Latn', 'cok_Latn', 'con_Latn', 'cop_Copt', 'cor_Latn', 'cos_Latn', 'cot_Latn', 'cou_Latn', 'cpa_Latn', 'cpb_Latn', 'cpc_Latn', 'cpu_Latn', 'cpy_Latn', 'crh_Cyrl', 'crh_Latn', 'cri_Latn', 'crj_Cans', 'crk_Cans', 'crk_Latn', 'crl_Cans', 'crm_Cans', 'crn_Latn', 'crs_Latn', 'crt_Latn', 'crx_Latn', 'csb_Latn', 'csk_Latn', 'cso_Latn', 'csw_Cans', 'csw_Latn', 'csy_Latn', 'cta_Latn', 'ctd_Latn', 'cto_Latn', 'ctp_Latn', 'ctu_Latn', 'cub_Latn', 'cuc_Latn', 'cui_Latn', 'cuk_Latn', 'cul_Latn', 'cut_Latn', 'cux_Latn', 'cwd_Cans', 'cwe_Latn', 'cwt_Latn', 'cya_Latn', 'cym_Latn', 'czt_Latn', 'daa_Latn', 'dad_Latn', 'daf_Latn', 'dag_Latn', 'dah_Latn', 'dak_Latn', 'dan_Latn', 'dar_Cyrl', 'dbq_Latn', 'ddg_Latn', 'ddn_Latn', 'ded_Latn', 'des_Latn', 'deu_Latn', 'dga_Latn', 'dgc_Latn', 'dgi_Latn', 'dgr_Latn', 'dgz_Latn', 'dhg_Latn', 'dhm_Latn', 'dhv_Latn', 'did_Latn', 'dig_Latn', 'dik_Latn', 'dip_Latn', 'diq_Latn', 'dis_Latn', 'diu_Latn', 'div_Thaa', 'dje_Latn', 'djk_Latn', 'djr_Latn', 'dks_Latn', 'dln_Latn', 'dng_Cyrl', 'dnj_Latn', 'dnw_Latn', 'dob_Latn', 'doi_Deva', 'dop_Latn', 'dos_Latn', 'dow_Latn', 'drg_Latn', 'dru_Latn', 'dsb_Latn', 'dsh_Latn', 'dtb_Latn', 'dtp_Latn', 'dts_Latn', 'dty_Deva', 'dua_Latn', 'due_Latn', 'dug_Latn', 'duo_Latn', 'dur_Latn', 'dwr_Latn', 'dww_Latn', 'dyi_Latn', 'dyo_Latn', 'dyu_Latn', 'dzo_Tibt', 'ebk_Latn', 'efi_Latn', 'eka_Latn', 'ekk_Latn', 'eko_Latn', 'ell_Grek', 'eme_Latn', 'emi_Latn', 'eml_Latn', 'emp_Latn', 'enb_Latn', 'eng_Latn', 'enl_Latn', 'enm_Latn', 'enq_Latn', 'enx_Latn', 'epo_Latn', 'eri_Latn', 'ese_Latn', 'esi_Latn', 'esk_Latn', 'ess_Latn', 'esu_Latn', 'eto_Latn', 'etr_Latn', 'etu_Latn', 'eus_Latn', 'eve_Cyrl', 'ewe_Latn', 'ewo_Latn', 'ext_Latn', 'eza_Latn', 'faa_Latn', 'fad_Latn', 'fai_Latn', 'fal_Latn', 'fan_Latn', 'fao_Latn', 'far_Latn', 'fas_Arab', 'fat_Latn', 'ffm_Latn', 'fij_Latn', 'fil_Latn', 'fin_Latn', 'fit_Latn', 'fkv_Latn', 'fmu_Deva', 'fon_Latn', 'for_Latn', 'fra_Latn', 'frd_Latn', 'fro_Latn', 'frp_Latn', 'frr_Latn', 'fry_Latn', 'fub_Latn', 'fud_Latn', 'fue_Latn', 'fuf_Latn', 'fuh_Latn', 'fuq_Latn', 'fur_Latn', 'fuv_Arab', 'fuv_Latn', 'gaa_Latn', 'gag_Cyrl', 'gag_Latn', 'gah_Latn', 'gai_Latn', 'gam_Latn', 'gaw_Latn', 'gaz_Latn', 'gbi_Latn', 'gbo_Latn', 'gbr_Latn', 'gcf_Latn', 'gcr_Latn', 'gde_Latn', 'gdg_Latn', 'gdn_Latn', 'gdr_Latn', 'geb_Latn', 'gej_Latn', 'gfk_Latn', 'ghe_Deva', 'ghs_Latn', 'gid_Latn', 'gil_Latn', 'giz_Latn', 'gjn_Latn', 'gkn_Latn', 'gla_Latn', 'gle_Latn', 'glg_Latn', 'glk_Arab', 'glv_Latn', 'gmh_Latn', 'gmv_Ethi', 'gmv_Latn', 'gna_Latn', 'gnb_Latn', 'gnd_Latn', 'gng_Latn', 'gnn_Latn', 'gnw_Latn', 'goa_Latn', 'gof_Ethi', 'gof_Latn', 'gog_Latn', 'goh_Latn', 'gom_Deva', 'gom_Latn', 'gor_Latn', 'gos_Latn', 'got_Goth', 'got_Latn', 'gqr_Latn', 'grc_Grek', 'grt_Beng', 'gso_Latn', 'gsw_Latn', 'gub_Latn', 'guc_Latn', 'gud_Latn', 'gug_Latn', 'guh_Latn', 'gui_Latn', 'guj_Gujr', 'guj_Latn', 'guk_Ethi', 'gul_Latn', 'gum_Latn', 'gun_Latn', 'guo_Latn', 'guq_Latn', 'gur_Latn', 'guu_Latn', 'guw_Latn', 'gux_Latn', 'guz_Latn', 'gvc_Latn', 'gvf_Latn', 'gvl_Latn', 'gvn_Latn', 'gwi_Latn', 'gwr_Latn', 'gya_Latn', 'gym_Latn', 'gyr_Latn', 'hac_Arab', 'hae_Latn', 'hag_Latn', 'hak_Hani', 'hak_Latn', 'hat_Latn', 'hau_Latn', 'hav_Latn', 'haw_Latn', 'hay_Latn', 'hbo_Hebr', 'hch_Latn', 'heb_Hebr', 'heg_Latn', 'heh_Latn', 'her_Latn', 'hif_Latn', 'hig_Latn', 'hil_Latn', 'hin_Deva', 'hin_Latn', 'hix_Latn', 'hla_Latn', 'hlt_Latn', 'hmo_Latn', 'hmr_Latn', 'hne_Deva', 'hnj_Latn', 'hnn_Latn', 'hns_Latn', 'hoc_Latn', 'hoc_Wara', 'hop_Latn', 'hot_Latn', 'hra_Latn', 'hrv_Latn', 'hrx_Latn', 'hsb_Latn', 'hto_Latn', 'hub_Latn', 'hui_Latn', 'hun_Latn', 'hus_Latn', 'huu_Latn', 'huv_Latn', 'hvn_Latn', 'hwc_Latn', 'hye_Armn', 'hyw_Armn', 'ian_Latn', 'iba_Latn', 'ibg_Latn', 'ibo_Latn', 'icr_Latn', 'ido_Latn', 'idu_Latn', 'ifa_Latn', 'ifb_Latn', 'ife_Latn', 'ifk_Latn', 'ifu_Latn', 'ify_Latn', 'ige_Latn', 'ign_Latn', 'ike_Cans', 'ikk_Latn', 'ikt_Latn', 'ikw_Latn', 'ilb_Latn', 'ile_Latn', 'ilo_Latn', 'imo_Latn', 'ina_Latn', 'inb_Latn', 'ind_Latn', 'inh_Cyrl', 'ino_Latn', 'iou_Latn', 'ipi_Latn', 'iqw_Latn', 'iri_Latn', 'irk_Latn', 'iry_Latn', 'isd_Latn', 'ish_Latn', 'isl_Latn', 'iso_Latn', 'ita_Latn', 'itl_Cyrl', 'itv_Latn', 'ium_Latn', 'ivb_Latn', 'ivv_Latn', 'iws_Latn', 'ixl_Latn', 'izr_Latn', 'izz_Latn', 'jaa_Latn', 'jac_Latn', 'jae_Latn', 'jam_Latn', 'jav_Java', 'jav_Latn', 'jbo_Latn', 'jbu_Latn', 'jic_Latn', 'jiv_Latn', 'jmc_Latn', 'jpn_Jpan', 'jra_Latn', 'jun_Orya', 'jvn_Latn', 'kaa_Cyrl', 'kaa_Latn', 'kab_Latn', 'kac_Latn', 'kak_Latn', 'kal_Latn', 'kam_Latn', 'kan_Knda', 'kan_Latn', 'kao_Latn', 'kap_Cyrl', 'kaq_Latn', 'kas_Arab', 'kas_Deva', 'kas_Latn', 'kat_Geor', 'kaz_Cyrl', 'kbc_Latn', 'kbd_Cyrl', 'kbh_Latn', 'kbm_Latn', 'kbo_Latn', 'kbp_Latn', 'kbq_Latn', 'kbr_Latn', 'kby_Latn', 'kca_Cyrl', 'kcg_Latn', 'kck_Latn', 'kdc_Latn', 'kde_Latn', 'kdh_Latn', 'kdi_Latn', 'kdj_Latn', 'kdl_Latn', 'kdp_Latn', 'kdr_Latn', 'kea_Latn', 'kei_Latn', 'kek_Latn', 'ken_Latn', 'keo_Latn', 'ker_Latn', 'kew_Latn', 'kex_Deva', 'kez_Latn', 'kff_Telu', 'kgf_Latn', 'kgk_Latn', 'kgp_Latn', 'kgr_Latn', 'kha_Latn', 'khk_Cyrl', 'khm_Khmr', 'khq_Latn', 'khs_Latn', 'khy_Latn', 'khz_Latn', 'kia_Latn', 'kij_Latn', 'kik_Latn', 'kin_Latn', 'kir_Cyrl', 'kiu_Latn', 'kix_Latn', 'kjb_Latn', 'kje_Latn', 'kjh_Cyrl', 'kjs_Latn', 'kkc_Latn', 'kki_Latn', 'kkj_Latn', 'kkl_Latn', 'kle_Deva', 'klt_Latn', 'klv_Latn', 'kma_Latn', 'kmb_Latn', 'kmd_Latn', 'kmg_Latn', 'kmh_Latn', 'kmk_Latn', 'kmm_Latn', 'kmo_Latn', 'kmr_Cyrl', 'kmr_Latn', 'kms_Latn', 'kmu_Latn', 'kmy_Latn', 'knc_Arab', 'knc_Latn', 'kne_Latn', 'knf_Latn', 'kng_Latn', 'knj_Latn', 'knk_Latn', 'kno_Latn', 'knv_Latn', 'knx_Latn', 'kny_Latn', 'kog_Latn', 'koi_Cyrl', 'koo_Latn', 'kor_Hang', 'kos_Latn', 'kpe_Latn', 'kpf_Latn', 'kpg_Latn', 'kpj_Latn', 'kpq_Latn', 'kpr_Latn', 'kpv_Cyrl', 'kpw_Latn', 'kpx_Latn', 'kpz_Latn', 'kqa_Latn', 'kqc_Latn', 'kqe_Latn', 'kqf_Latn', 'kql_Latn', 'kqn_Latn', 'kqo_Latn', 'kqp_Latn', 'kqs_Latn', 'kqw_Latn', 'kqy_Ethi', 'krc_Cyrl', 'kri_Latn', 'krj_Latn', 'krl_Latn', 'kru_Deva', 'krx_Latn', 'ksb_Latn', 'ksc_Latn', 'ksd_Latn', 'ksf_Latn', 'ksh_Latn', 'ksj_Latn', 'ksp_Latn', 'ksr_Latn', 'kss_Latn', 'ksw_Mymr', 'ktb_Ethi', 'ktj_Latn', 'ktm_Latn', 'kto_Latn', 'ktu_Latn', 'ktz_Latn', 'kua_Latn', 'kub_Latn', 'kud_Latn', 'kue_Latn', 'kuj_Latn', 'kum_Cyrl', 'kup_Latn', 'kus_Latn', 'kvg_Latn', 'kvj_Latn', 'kvn_Latn', 'kwd_Latn', 'kwf_Latn', 'kwi_Latn', 'kwj_Latn', 'kwn_Latn', 'kwy_Latn', 'kxc_Ethi', 'kxm_Thai', 'kxw_Latn', 'kyc_Latn', 'kyf_Latn', 'kyg_Latn', 'kyq_Latn', 'kyu_Kali', 'kyu_Latn', 'kyu_Mymr', 'kyz_Latn', 'kze_Latn', 'kzf_Latn', 'kzj_Latn', 'kzn_Latn', 'lac_Latn', 'lad_Hebr', 'lad_Latn', 'lai_Latn', 'laj_Latn', 'lam_Latn', 'lao_Laoo', 'lap_Latn', 'las_Latn', 'lat_Latn', 'law_Latn', 'lbb_Latn', 'lbe_Cyrl', 'lbj_Tibt', 'lbk_Latn', 'lcm_Latn', 'lcp_Thai', 'ldi_Latn', 'ldn_Latn', 'lea_Latn', 'led_Latn', 'lee_Latn', 'lef_Latn', 'leh_Latn', 'lem_Latn', 'leu_Latn', 'lew_Latn', 'lex_Latn', 'lez_Cyrl', 'lfn_Cyrl', 'lfn_Latn', 'lgg_Latn', 'lgl_Latn', 'lgm_Latn', 'lhi_Latn', 'lhu_Latn', 'lia_Latn', 'lid_Latn', 'lif_Deva', 'lif_Limb', 'lij_Latn', 'lim_Latn', 'lin_Latn', 'lip_Latn', 'lis_Lisu', 'lit_Latn', 'liv_Latn', 'ljp_Latn', 'lki_Arab', 'llb_Latn', 'lld_Latn', 'llg_Latn', 'lln_Latn', 'lmk_Latn', 'lmo_Latn', 'lmp_Latn', 'lnd_Latn', 'lob_Latn', 'loe_Latn', 'log_Latn', 'lok_Latn', 'lol_Latn', 'lom_Latn', 'loq_Latn', 'loz_Latn', 'lrc_Arab', 'lsi_Latn', 'lsm_Latn', 'ltg_Latn', 'ltz_Latn', 'lua_Latn', 'lub_Latn', 'luc_Latn', 'lud_Latn', 'lue_Latn', 'lug_Latn', 'lun_Latn', 'luo_Latn', 'lus_Latn', 'lvs_Latn', 'lwg_Latn', 'lwo_Latn', 'lww_Latn', 'lzh_Hani', 'maa_Latn', 'mad_Latn', 'maf_Latn', 'mag_Deva', 'mah_Latn', 'mai_Deva', 'maj_Latn', 'mak_Latn', 'mal_Latn', 'mal_Mlym', 'mam_Latn', 'maq_Latn', 'mar_Deva', 'mar_Latn', 'mas_Latn', 'mau_Latn', 'mav_Latn', 'maw_Latn', 'max_Latn', 'maz_Latn', 'mbb_Latn', 'mbc_Latn', 'mbd_Latn', 'mbf_Latn', 'mbh_Latn', 'mbi_Latn', 'mbj_Latn', 'mbl_Latn', 'mbs_Latn', 'mbt_Latn', 'mca_Latn', 'mcb_Latn', 'mcd_Latn', 'mcf_Latn', 'mck_Latn', 'mcn_Latn', 'mco_Latn', 'mcp_Latn', 'mcq_Latn', 'mcu_Latn', 'mda_Latn', 'mdf_Cyrl', 'mdy_Ethi', 'med_Latn', 'mee_Latn', 'mej_Latn', 'mek_Latn', 'men_Latn', 'meq_Latn', 'mer_Latn', 'met_Latn', 'meu_Latn', 'mev_Latn', 'mfe_Latn', 'mfg_Latn', 'mfh_Latn', 'mfi_Latn', 'mfk_Latn', 'mfq_Latn', 'mfy_Latn', 'mfz_Latn', 'mgc_Latn', 'mgh_Latn', 'mgm_Latn', 'mgo_Latn', 'mgr_Latn', 'mhi_Latn', 'mhl_Latn', 'mhr_Cyrl', 'mhw_Latn', 'mhx_Latn', 'mhy_Latn', 'mib_Latn', 'mic_Latn', 'mie_Latn', 'mif_Latn', 'mig_Latn', 'mih_Latn', 'mil_Latn', 'mim_Latn', 'min_Arab', 'min_Latn', 'mio_Latn', 'mip_Latn', 'miq_Latn', 'mir_Latn', 'mit_Latn', 'miy_Latn', 'miz_Latn', 'mjc_Latn', 'mjw_Latn', 'mkd_Cyrl', 'mkl_Latn', 'mkn_Latn', 'mks_Latn', 'mkz_Latn', 'mlh_Latn', 'mlp_Latn', 'mlt_Latn', 'mlu_Latn', 'mmn_Latn', 'mmo_Latn', 'mmx_Latn', 'mna_Latn', 'mnb_Latn', 'mnf_Latn', 'mni_Beng', 'mni_Latn', 'mni_Mtei', 'mnk_Latn', 'mns_Cyrl', 'mnw_Mymr', 'mnx_Latn', 'mny_Latn', 'moa_Latn', 'moc_Latn', 'mog_Latn', 'moh_Latn', 'mop_Latn', 'mor_Latn', 'mos_Latn', 'mox_Latn', 'mpg_Latn', 'mph_Latn', 'mpm_Latn', 'mpp_Latn', 'mps_Latn', 'mpt_Latn', 'mpx_Latn', 'mqb_Latn', 'mqj_Latn', 'mqy_Latn', 'mrg_Latn', 'mri_Latn', 'mrj_Cyrl', 'mrq_Latn', 'mrv_Latn', 'mrw_Latn', 'msb_Latn', 'msc_Latn', 'mse_Latn', 'msk_Latn', 'msm_Latn', 'msy_Latn', 'mta_Latn', 'mtg_Latn', 'mti_Latn', 'mtj_Latn', 'mto_Latn', 'mtp_Latn', 'mua_Latn', 'mug_Latn', 'muh_Latn', 'mui_Latn', 'mup_Deva', 'mur_Latn', 'mus_Latn', 'mux_Latn', 'muy_Latn', 'mva_Latn', 'mvn_Latn', 'mvp_Latn', 'mwc_Latn', 'mwf_Latn', 'mwl_Latn', 'mwm_Latn', 'mwn_Latn', 'mwp_Latn', 'mwq_Latn', 'mwv_Latn', 'mww_Latn', 'mxb_Latn', 'mxp_Latn', 'mxq_Latn', 'mxt_Latn', 'mxv_Latn', 'mya_Mymr', 'myb_Latn', 'myk_Latn', 'myu_Latn', 'myv_Cyrl', 'myw_Latn', 'myx_Latn', 'myy_Latn', 'mza_Latn', 'mzh_Latn', 'mzk_Latn', 'mzl_Latn', 'mzm_Latn', 'mzn_Arab', 'mzw_Latn', 'mzz_Latn', 'nab_Latn', 'naf_Latn', 'nah_Latn', 'nak_Latn', 'nan_Hani', 'nan_Latn', 'nap_Latn', 'naq_Latn', 'nas_Latn', 'nav_Latn', 'naw_Latn', 'nba_Latn', 'nbc_Latn', 'nbe_Latn', 'nbl_Latn', 'nbq_Latn', 'nbu_Latn', 'nca_Latn', 'nch_Latn', 'ncj_Latn', 'ncl_Latn', 'ncq_Laoo', 'nct_Latn', 'ncu_Latn', 'ncx_Latn', 'ndc_Latn', 'nde_Latn', 'ndh_Latn', 'ndi_Latn', 'ndj_Latn', 'ndo_Latn', 'ndp_Latn', 'nds_Latn', 'ndy_Latn', 'ndz_Latn', 'neb_Latn', 'new_Deva', 'nfa_Latn', 'nfr_Latn', 'ngb_Latn', 'ngc_Latn', 'ngl_Latn', 'ngp_Latn', 'ngu_Latn', 'nhd_Latn', 'nhe_Latn', 'nhg_Latn', 'nhi_Latn', 'nhk_Latn', 'nho_Latn', 'nhr_Latn', 'nhu_Latn', 'nhw_Latn', 'nhx_Latn', 'nhy_Latn', 'nia_Latn', 'nif_Latn', 'nii_Latn', 'nij_Latn', 'nim_Latn', 'nin_Latn', 'nio_Cyrl', 'niq_Latn', 'niu_Latn', 'niy_Latn', 'njb_Latn', 'njm_Latn', 'njn_Latn', 'njo_Latn', 'njz_Latn', 'nkf_Latn', 'nki_Latn', 'nko_Latn', 'nla_Latn', 'nlc_Latn', 'nld_Latn', 'nlg_Latn', 'nma_Latn', 'nmf_Latn', 'nmh_Latn', 'nmo_Latn', 'nmw_Latn', 'nmz_Latn', 'nnb_Latn', 'nng_Latn', 'nnh_Latn', 'nnl_Latn', 'nno_Latn', 'nnp_Latn', 'nnq_Latn', 'nnw_Latn', 'noa_Latn', 'nob_Latn', 'nod_Thai', 'nog_Cyrl', 'non_Latn', 'nop_Latn', 'not_Latn', 'nou_Latn', 'nov_Latn', 'nph_Latn', 'npi_Deva', 'npi_Latn', 'npl_Latn', 'npo_Latn', 'npy_Latn', 'nqo_Nkoo', 'nre_Latn', 'nrf_Latn', 'nri_Latn', 'nrm_Latn', 'nsa_Latn', 'nse_Latn', 'nsm_Latn', 'nsn_Latn', 'nso_Latn', 'nss_Latn', 'nst_Latn', 'nsu_Latn', 'ntp_Latn', 'ntr_Latn', 'ntu_Latn', 'nuj_Latn', 'nus_Latn', 'nuy_Latn', 'nuz_Latn', 'nvm_Latn', 'nwb_Latn', 'nwi_Latn', 'nwx_Deva', 'nxd_Latn', 'nya_Latn', 'nyf_Latn', 'nyk_Latn', 'nyn_Latn', 'nyo_Latn', 'nyu_Latn', 'nyy_Latn', 'nza_Latn', 'nzi_Latn', 'nzm_Latn', 'obo_Latn', 'oci_Latn', 'ogo_Latn', 'ojb_Cans', 'ojb_Latn', 'oke_Latn', 'oku_Latn', 'okv_Latn', 'old_Latn', 'olo_Latn', 'omb_Latn', 'omw_Latn', 'ong_Latn', 'ons_Latn', 'ood_Latn', 'opm_Latn', 'orv_Cyrl', 'ory_Latn', 'ory_Orya', 'oss_Cyrl', 'ota_Arab', 'otd_Latn', 'ote_Latn', 'otm_Latn', 'otn_Latn', 'oto_Latn', 'otq_Latn', 'ots_Latn', 'otw_Latn', 'oym_Latn', 'ozm_Latn', 'pab_Latn', 'pad_Latn', 'pag_Latn', 'pah_Latn', 'pam_Latn', 'pan_Guru', 'pan_Latn', 'pao_Latn', 'pap_Latn', 'pau_Latn', 'pbb_Latn', 'pbc_Latn', 'pbi_Latn', 'pbt_Arab', 'pcd_Latn', 'pck_Latn', 'pcm_Latn', 'pdc_Latn', 'pdt_Latn', 'pem_Latn', 'pfe_Latn', 'pfl_Latn', 'phm_Latn', 'pib_Latn', 'pio_Latn', 'pir_Latn', 'pis_Latn', 'pjt_Latn', 'pkb_Latn', 'plg_Latn', 'pls_Latn', 'plt_Latn', 'plu_Latn', 'plw_Latn', 'pma_Latn', 'pmf_Latn', 'pmq_Latn', 'pms_Latn', 'pmx_Latn', 'pnb_Arab', 'pne_Latn', 'pnt_Grek', 'pny_Latn', 'poe_Latn', 'poh_Latn', 'poi_Latn', 'pol_Latn', 'pon_Latn', 'por_Latn', 'pos_Latn', 'pot_Latn', 'pov_Latn', 'poy_Latn', 'ppk_Latn', 'ppo_Latn', 'pps_Latn', 'prf_Latn', 'prg_Latn', 'pri_Latn', 'prq_Latn', 'pse_Latn', 'pss_Latn', 'ptp_Latn', 'ptu_Latn', 'pua_Latn', 'pui_Latn', 'pwg_Latn', 'pwn_Latn', 'pww_Thai', 'pxm_Latn', 'qub_Latn', 'quc_Latn', 'quf_Latn', 'qug_Latn', 'quh_Latn', 'qul_Latn', 'qup_Latn', 'qus_Latn', 'quw_Latn', 'quy_Latn', 'quz_Latn', 'qva_Latn', 'qvc_Latn', 'qve_Latn', 'qvh_Latn', 'qvi_Latn', 'qvm_Latn', 'qvn_Latn', 'qvo_Latn', 'qvs_Latn', 'qvw_Latn', 'qvz_Latn', 'qwh_Latn', 'qxh_Latn', 'qxl_Latn', 'qxn_Latn', 'qxo_Latn', 'qxr_Latn', 'rad_Latn', 'rai_Latn', 'rap_Latn', 'rar_Latn', 'rav_Deva', 'raw_Latn', 'rcf_Latn', 'rej_Latn', 'rel_Latn', 'rgu_Latn', 'rhg_Latn', 'ria_Latn', 'rim_Latn', 'rjs_Deva', 'rkb_Latn', 'rmc_Latn', 'rme_Latn', 'rml_Latn', 'rmn_Cyrl', 'rmn_Grek', 'rmn_Latn', 'rmo_Latn', 'rmq_Latn', 'rmy_Cyrl', 'rmy_Latn', 'rnd_Latn', 'rng_Latn', 'rnl_Latn', 'roh_Latn', 'ron_Cyrl', 'ron_Latn', 'roo_Latn', 'rop_Latn', 'row_Latn', 'rro_Latn', 'rtm_Latn', 'rub_Latn', 'rue_Cyrl', 'ruf_Latn', 'rug_Latn', 'run_Latn', 'rup_Latn', 'rus_Cyrl', 'rwo_Latn', 'sab_Latn', 'sag_Latn', 'sah_Cyrl', 'saj_Latn', 'san_Deva', 'san_Latn', 'sas_Latn', 'sat_Latn', 'sat_Olck', 'say_Latn', 'sba_Latn', 'sbd_Latn', 'sbe_Latn', 'sbl_Latn', 'sbs_Latn', 'sby_Latn', 'sck_Deva', 'scn_Latn', 'sco_Latn', 'sda_Latn', 'sdc_Latn', 'sdh_Arab', 'sdo_Latn', 'sdq_Latn', 'seh_Latn', 'sel_Cyrl', 'ses_Latn', 'sey_Latn', 'sfw_Latn', 'sgb_Latn', 'sgc_Latn', 'sgh_Cyrl', 'sgs_Latn', 'sgw_Ethi', 'sgz_Latn', 'shi_Latn', 'shk_Latn', 'shn_Mymr', 'shp_Latn', 'shr_Latn', 'shu_Arab', 'sid_Latn', 'sig_Latn', 'sil_Latn', 'sim_Latn', 'sin_Sinh', 'sja_Latn', 'sjo_Mong', 'sju_Latn', 'skg_Latn', 'skr_Arab', 'sld_Latn', 'slk_Latn', 'sll_Latn', 'slv_Latn', 'sma_Latn', 'sme_Latn', 'smj_Latn', 'smk_Latn', 'sml_Latn', 'smn_Latn', 'smo_Latn', 'sms_Latn', 'smt_Latn', 'sna_Latn', 'snc_Latn', 'snd_Arab', 'snd_Deva', 'snd_Latn', 'snf_Latn', 'snn_Latn', 'snp_Latn', 'snw_Latn', 'sny_Latn', 'soe_Latn', 'som_Latn', 'sop_Latn', 'soq_Latn', 'sot_Latn', 'soy_Latn', 'spa_Latn', 'spl_Latn', 'spm_Latn', 'spp_Latn', 'sps_Latn', 'spy_Latn', 'srd_Latn', 'sri_Latn', 'srm_Latn', 'srn_Latn', 'srp_Cyrl', 'srp_Latn', 'srq_Latn', 'srr_Latn', 'ssd_Latn', 'ssg_Latn', 'ssw_Latn', 'ssx_Latn', 'stn_Latn', 'stp_Latn', 'stq_Latn', 'sua_Latn', 'suc_Latn', 'sue_Latn', 'suk_Latn', 'sun_Latn', 'sur_Latn', 'sus_Arab', 'sus_Latn', 'suz_Deva', 'swb_Latn', 'swc_Latn', 'swe_Latn', 'swg_Latn', 'swh_Latn', 'swk_Latn', 'swp_Latn', 'sxb_Latn', 'sxn_Latn', 'syb_Latn', 'syc_Syrc', 'syl_Beng', 'syl_Latn', 'szb_Latn', 'szl_Latn', 'szy_Latn', 'tab_Cyrl', 'tac_Latn', 'tah_Latn', 'taj_Deva', 'tam_Latn', 'tam_Taml', 'tap_Latn', 'taq_Latn', 'taq_Tfng', 'tar_Latn', 'tat_Cyrl', 'tat_Latn', 'tav_Latn', 'taw_Latn', 'tay_Latn', 'tbc_Latn', 'tbg_Latn', 'tbk_Latn', 'tbl_Latn', 'tbo_Latn', 'tbw_Latn', 'tby_Latn', 'tbz_Latn', 'tca_Latn', 'tcc_Latn', 'tcf_Latn', 'tcs_Latn', 'tcy_Knda', 'tcz_Latn', 'tdt_Latn', 'tdx_Latn', 'ted_Latn', 'tee_Latn', 'tel_Latn', 'tel_Telu', 'tem_Latn', 'teo_Latn', 'ter_Latn', 'tet_Latn', 'tew_Latn', 'tfr_Latn', 'tgk_Cyrl', 'tgo_Latn', 'tgp_Latn', 'tha_Thai', 'thk_Latn', 'thl_Deva', 'thv_Latn', 'tif_Latn', 'tig_Ethi', 'tih_Latn', 'tik_Latn', 'tim_Latn', 'tir_Ethi', 'tiv_Latn', 'tiy_Latn', 'tke_Latn', 'tkl_Latn', 'tkr_Cyrl', 'tku_Latn', 'tlb_Latn', 'tlf_Latn', 'tlh_Latn', 'tlj_Latn', 'tll_Latn', 'tly_Latn', 'tmc_Latn', 'tmd_Latn', 'tna_Latn', 'tnc_Latn', 'tnk_Latn', 'tnn_Latn', 'tnp_Latn', 'tnr_Latn', 'tob_Latn', 'toc_Latn', 'tod_Latn', 'tog_Latn', 'toh_Latn', 'toi_Latn', 'toj_Latn', 'tok_Latn', 'ton_Latn', 'too_Latn', 'top_Latn', 'tos_Latn', 'tpa_Latn', 'tpi_Latn', 'tpm_Latn', 'tpn_Latn', 'tpp_Latn', 'tpt_Latn', 'tpw_Latn', 'tpz_Latn', 'tqo_Latn', 'trc_Latn', 'trn_Latn', 'tro_Latn', 'trp_Latn', 'trq_Latn', 'trs_Latn', 'trv_Latn', 'tsc_Latn', 'tsg_Latn', 'tsn_Latn', 'tso_Latn', 'tsw_Latn', 'tsz_Latn', 'ttc_Latn', 'tte_Latn', 'ttj_Latn', 'ttq_Latn', 'ttq_Tfng', 'tuc_Latn', 'tue_Latn', 'tuf_Latn', 'tui_Latn', 'tuk_Arab', 'tuk_Cyrl', 'tuk_Latn', 'tul_Latn', 'tum_Latn', 'tuo_Latn', 'tur_Latn', 'tuv_Latn', 'tvk_Latn', 'tvl_Latn', 'twb_Latn', 'twi_Latn', 'twu_Latn', 'twx_Latn', 'txq_Latn', 'txu_Latn', 'tyv_Cyrl', 'tzh_Latn', 'tzj_Latn', 'tzl_Latn', 'tzm_Tfng', 'tzo_Latn', 'ubr_Latn', 'ubu_Latn', 'udm_Cyrl', 'udu_Latn', 'uig_Arab', 'uig_Cyrl', 'uig_Latn', 'ukr_Cyrl', 'umb_Latn', 'und_Adlm', 'und_Aghb', 'und_Ahom', 'und_Armi', 'und_Armn', 'und_Avst', 'und_Bali', 'und_Bamu', 'und_Bass', 'und_Batk', 'und_Beng', 'und_Bhks', 'und_Bopo', 'und_Brah', 'und_Brai', 'und_Bugi', 'und_Buhd', 'und_Cakm', 'und_Cans', 'und_Cari', 'und_Cham', 'und_Cher', 'und_Chrs', 'und_Copt', 'und_Cpmn', 'und_Cprt', 'und_Cyrl', 'und_Deva', 'und_Diak', 'und_Dogr', 'und_Dsrt', 'und_Dupl', 'und_Egyp', 'und_Elba', 'und_Elym', 'und_Ethi', 'und_Geor', 'und_Glag', 'und_Gong', 'und_Gonm', 'und_Goth', 'und_Gran', 'und_Grek', 'und_Gujr', 'und_Guru', 'und_Hano', 'und_Hatr', 'und_Hebr', 'und_Hira', 'und_Hluw', 'und_Hmng', 'und_Hmnp', 'und_Hung', 'und_Ital', 'und_Java', 'und_Kali', 'und_Kana', 'und_Kawi', 'und_Khar', 'und_Khmr', 'und_Khoj', 'und_Kits', 'und_Knda', 'und_Kthi', 'und_Lana', 'und_Laoo', 'und_Lepc', 'und_Limb', 'und_Lina', 'und_Linb', 'und_Lisu', 'und_Lyci', 'und_Lydi', 'und_Mahj', 'und_Maka', 'und_Mand', 'und_Mani', 'und_Marc', 'und_Medf', 'und_Mend', 'und_Merc', 'und_Mero', 'und_Mlym', 'und_Modi', 'und_Mong', 'und_Mroo', 'und_Mtei', 'und_Mult', 'und_Mymr', 'und_Nagm', 'und_Nand', 'und_Narb', 'und_Nbat', 'und_Newa', 'und_Nkoo', 'und_Nshu', 'und_Ogam', 'und_Olck', 'und_Orkh', 'und_Orya', 'und_Osge', 'und_Osma', 'und_Ougr', 'und_Palm', 'und_Pauc', 'und_Perm', 'und_Phag', 'und_Phli', 'und_Phlp', 'und_Phnx', 'und_Plrd', 'und_Prti', 'und_Rjng', 'und_Rohg', 'und_Runr', 'und_Samr', 'und_Sarb', 'und_Saur', 'und_Sgnw', 'und_Shaw', 'und_Shrd', 'und_Sidd', 'und_Sind', 'und_Sinh', 'und_Sogd', 'und_Sogo', 'und_Sora', 'und_Soyo', 'und_Sund', 'und_Sylo', 'und_Syrc', 'und_Tagb', 'und_Takr', 'und_Tale', 'und_Talu', 'und_Taml', 'und_Tang', 'und_Tavt', 'und_Telu', 'und_Tfng', 'und_Tglg', 'und_Thaa', 'und_Thai', 'und_Tibt', 'und_Tirh', 'und_Tnsa', 'und_Toto', 'und_Ugar', 'und_Vaii', 'und_Vith', 'und_Wara', 'und_Wcho', 'und_Xpeo', 'und_Xsux', 'und_Yezi', 'und_Yiii', 'und_Zanb', 'upv_Latn', 'ura_Latn', 'urb_Latn', 'urd_Arab', 'urd_Latn', 'urh_Latn', 'uri_Latn', 'urk_Thai', 'urt_Latn', 'urw_Latn', 'ury_Latn', 'usa_Latn', 'usp_Latn', 'uth_Latn', 'uvh_Latn', 'uvl_Latn', 'uzn_Cyrl', 'uzn_Latn', 'uzs_Arab', 'vag_Latn', 'vap_Latn', 'var_Latn', 'vec_Latn', 'ven_Latn', 'vep_Latn', 'vid_Latn', 'vie_Latn', 'viv_Latn', 'vls_Latn', 'vmk_Latn', 'vmw_Latn', 'vmy_Latn', 'vol_Latn', 'vot_Latn', 'vro_Latn', 'vun_Latn', 'vut_Latn', 'waj_Latn', 'wal_Ethi', 'wal_Latn', 'wap_Latn', 'war_Latn', 'wat_Latn', 'way_Latn', 'wba_Latn', 'wbm_Latn', 'wbp_Latn', 'wed_Latn', 'wer_Latn', 'wes_Latn', 'wew_Latn', 'whg_Latn', 'whk_Latn', 'wib_Latn', 'wim_Latn', 'wiu_Latn', 'wln_Latn', 'wls_Latn', 'wlv_Latn', 'wlx_Latn', 'wmt_Latn', 'wmw_Latn', 'wnc_Latn', 'wnu_Latn', 'wob_Latn', 'wol_Latn', 'wos_Latn', 'wrk_Latn', 'wrs_Latn', 'wsg_Telu', 'wsk_Latn', 'wuu_Hani', 'wuv_Latn', 'wwa_Latn', 'xal_Cyrl', 'xav_Latn', 'xbi_Latn', 'xbr_Latn', 'xed_Latn', 'xho_Latn', 'xla_Latn', 'xmf_Geor', 'xmm_Latn', 'xmv_Latn', 'xnn_Latn', 'xog_Latn', 'xon_Latn', 'xrb_Latn', 'xsb_Latn', 'xsi_Latn', 'xsm_Latn', 'xsr_Deva', 'xsu_Latn', 'xtd_Latn', 'xtm_Latn', 'xtn_Latn', 'xum_Latn', 'xuo_Latn', 'yaa_Latn', 'yad_Latn', 'yal_Latn', 'yam_Latn', 'yan_Latn', 'yao_Latn', 'yap_Latn', 'yaq_Latn', 'yas_Latn', 'yat_Latn', 'yaz_Latn', 'ybb_Latn', 'yby_Latn', 'ycn_Latn', 'ydd_Hebr', 'yim_Latn', 'yka_Latn', 'yle_Latn', 'yli_Latn', 'yml_Latn', 'yom_Latn', 'yon_Latn', 'yor_Latn', 'yrb_Latn', 'yre_Latn', 'yrk_Cyrl', 'yrl_Latn', 'yss_Latn', 'yua_Latn', 'yue_Hani', 'yuj_Latn', 'yup_Latn', 'yut_Latn', 'yuw_Latn', 'yuz_Latn', 'yva_Latn', 'zaa_Latn', 'zab_Latn', 'zac_Latn', 'zad_Latn', 'zae_Latn', 'zai_Latn', 'zam_Latn', 'zao_Latn', 'zar_Latn', 'zas_Latn', 'zat_Latn', 'zav_Latn', 'zaw_Latn', 'zca_Latn', 'zdj_Latn', 'zea_Latn', 'zgh_Tfng', 'zia_Latn', 'ziw_Latn', 'zne_Latn', 'zoc_Latn', 'zom_Latn', 'zos_Latn', 'zpa_Latn', 'zpc_Latn', 'zpg_Latn', 'zpi_Latn', 'zpj_Latn', 'zpl_Latn', 'zpm_Latn', 'zpo_Latn', 'zpq_Latn', 'zpt_Latn', 'zpu_Latn', 'zpv_Latn', 'zpz_Latn', 'zsm_Arab', 'zsm_Latn', 'zsr_Latn', 'ztq_Latn', 'zty_Latn', 'zul_Latn', 'zxx_Arab', 'zxx_Latn', 'zxx_Zzzz', 'zyb_Latn', 'zyp_Latn']\n",
      "Number of languages in GlotLID: 2102\n",
      "['emk_Latn', 'aii_Syrc', 'sey_Latn', 'gjn_Latn', 'bul_Cyrl', 'swb_Latn', 'mfq_Latn', 'hat_Latn', 'guj_Gujr', 'koo_Latn', 'hye_Armn', 'quh_Latn', 'swe_Latn', 'mam_Latn', 'suk_Latn', 'fkv_Latn', 'qvh_Latn', 'yua_Latn', 'skr_Arab', 'tyv_Cyrl', 'pon_Latn', 'cjk_Latn', 'pcd_Latn', 'amr_Latn', 'kea_Latn', 'que_Latn', 'guk_Latn', 'ydd_Hebr', 'fon_Latn', 'ddn_Latn', 'cof_Latn', 'arb_Arab', 'ekk_Latn', 'fao_Latn', 'npi_Deva', 'ajg_Latn', 'slr_Latn', 'deu_Latn', 'csa_Latn', 'gld_Cyrl', 'qxu_Latn', 'sin_Sinh', 'loz_Latn', 'vie_Latn', 'sid_Latn', 'yue_Hani', 'gej_Latn', 'ppl_Latn', 'piu_Latn', 'por_Latn', 'mcf_Latn', 'mlt_Latn', 'pam_Latn', 'gaz_Latn', 'tsn_Latn', 'quy_Latn', 'ell_Grek', 'nya_Latn', 'ilo_Latn', 'bel_Cyrl', 'nzi_Latn', 'buc_Latn', 'kin_Latn', 'hil_Latn', 'mxi_Latn', 'uzn_Latn', 'kqn_Latn', 'ctd_Latn', 'ada_Latn', 'pan_Guru', 'tbz_Latn', 'oss_Cyrl', 'ben_Beng', 'mah_Latn', 'tgl_Latn', 'fat_Latn', 'ina_Latn', 'epo_Latn', 'mos_Latn', 'pbb_Latn', 'hus_Latn', 'crs_Latn', 'nso_Latn', 'pes_Arab', 'dzo_Tibt', 'cfm_Latn', 'bcl_Latn', 'chj_Latn', 'fij_Latn', 'isl_Latn', 'sus_Latn', 'pnb_Arab', 'tzo_Latn', 'mor_Latn', 'tso_Latn', 'bos_Cyrl', 'mnw_Mymr', 'ady_Cyrl', 'tam_Taml', 'lun_Latn', 'amc_Latn', 'bem_Latn', 'boa_Latn', 'fra_Latn', 'taj_Deva', 'hms_Latn', 'nno_Latn', 'ces_Latn', 'mad_Latn', 'lua_Latn', 'sah_Cyrl', 'shn_Mymr', 'san_Deva', 'dyo_Latn', 'lns_Latn', 'ven_Latn', 'kbr_Latn', 'koi_Cyrl', 'tuk_Latn', 'bam_Latn', 'kbp_Latn', 'tpi_Latn', 'bod_Tibt', 'kal_Latn', 'ktu_Latn', 'ztu_Latn', 'ibo_Latn', 'kwi_Latn', 'glv_Latn', 'cnr_Latn', 'bci_Latn', 'nld_Latn', 'swh_Latn', 'quc_Latn', 'srr_Latn', 'lug_Latn', 'arl_Latn', 'hun_Latn', 'ita_Latn', 'maz_Latn', 'zgh_Tfng', 'kha_Latn', 'sag_Latn', 'zam_Latn', 'fin_Latn', 'tel_Telu', 'tgk_Cyrl', 'kbd_Cyrl', 'tem_Latn', 'cjy_Hani', 'yao_Latn', 'csw_Cans', 'gla_Latn', 'cha_Latn', 'wuu_Hani', 'dyu_Latn', 'san_Gran', 'ibb_Latn', 'umb_Latn', 'cmn_Hani', 'smo_Latn', 'qvc_Latn', 'kor_Hang', 'lot_Latn', 'lia_Latn', 'tob_Latn', 'cjs_Cyrl', 'auc_Latn', 'quz_Latn', 'srp_Latn', 'cic_Latn', 'zdj_Latn', 'hin_Deva', 'kan_Knda', 'yap_Latn', 'toi_Latn', 'fuv_Latn', 'afr_Latn', 'toj_Latn', 'lij_Latn', 'eve_Cyrl', 'jav_Latn', 'hns_Latn', 'kjh_Cyrl', 'oaa_Cyrl', 'qvn_Latn', 'glg_Latn', 'chr_Cher', 'tgl_Tglg', 'nym_Latn', 'cym_Latn', 'tzh_Latn', 'gan_Hani', 'fur_Latn', 'chv_Cyrl', 'pov_Latn', 'xsm_Latn', 'bos_Latn', 'spa_Latn', 'tah_Latn', 'zyb_Latn', 'dag_Latn', 'tdt_Latn', 'lus_Latn', 'tat_Cyrl', 'lad_Latn', 'hnj_Latn', 'mar_Deva', 'wwa_Latn', 'duu_Latn', 'lin_Latn', 'ura_Latn', 'bfa_Latn', 'sun_Latn', 'nob_Latn', 'shp_Latn', 'tir_Ethi', 'ban_Latn', 'tha_Thai', 'ami_Latn', 'yrk_Cyrl', 'bug_Latn', 'bax_Latn', 'mal_Mlym', 'rmn_Latn', 'gaa_Latn', 'haw_Latn', 'lue_Latn', 'acu_Latn', 'nba_Latn', 'qvm_Latn', 'vmw_Latn', 'bho_Deva', 'tuk_Cyrl', 'hni_Latn', 'mkd_Cyrl', 'ojb_Cans', 'kdh_Latn', 'slv_Latn', 'njo_Latn', 'cri_Latn', 'kde_Latn', 'ayr_Latn', 'huu_Latn', 'bis_Latn', 'azj_Latn', 'nds_Latn', 'vai_Vaii', 'kek_Latn', 'tly_Latn', 'gle_Latn', 'ese_Latn', 'cpu_Latn', 'nhn_Latn', 'knc_Latn', 'lao_Laoo', 'uzn_Cyrl', 'tca_Latn', 'ido_Latn', 'rgn_Latn', 'blt_Tavt', 'hea_Latn', 'khk_Cyrl', 'cnh_Latn', 'oci_Latn', 'zlm_Latn', 'ceb_Latn', 'yad_Latn', 'lld_Latn', 'jpn_Jpan', 'khm_Khmr', 'heb_Hebr', 'abk_Cyrl', 'pbu_Arab', 'mri_Latn', 'dan_Latn', 'idu_Latn', 'zul_Latn', 'pis_Latn', 'guu_Latn', 'qva_Latn', 'gag_Latn', 'kmb_Latn', 'hsn_Hani', 'guc_Latn', 'tsz_Latn', 'tet_Latn', 'ukr_Cyrl', 'fuf_Latn', 'fvr_Latn', 'slk_Latn', 'eng_Latn', 'kaz_Cyrl', 'gyr_Latn', 'min_Latn', 'ote_Latn', 'lob_Latn', 'jav_Java', 'lvs_Latn', 'shk_Latn', 'ewe_Latn', 'fuf_Adlm', 'rus_Cyrl', 'zro_Latn', 'cak_Latn', 'dje_Latn', 'pol_Latn', 'dga_Latn', 'alt_Cyrl', 'hau_Latn', 'twi_Latn', 'snn_Latn', 'sot_Latn', 'mzi_Latn', 'som_Latn', 'pau_Latn', 'nio_Cyrl', 'nku_Latn', 'mic_Latn', 'ind_Latn', 'bin_Latn', 'cbu_Latn', 'nyn_Latn', 'mto_Latn', 'dip_Latn', 'sme_Latn', 'amh_Ethi', 'qxn_Latn', 'kir_Cyrl', 'chk_Latn', 'niu_Latn', 'uig_Arab', 'wln_Latn', 'nan_Hani', 'bba_Latn', 'oki_Latn', 'kaa_Cyrl', 'nav_Latn', 'sco_Latn', 'qug_Latn', 'hlt_Latn', 'ijs_Latn', 'nbl_Latn', 'krl_Latn', 'gsw_Latn', 'war_Latn', 'cbt_Latn', 'evn_Cyrl', 'jiv_Latn', 'vec_Latn', 'hrv_Latn', 'not_Latn', 'mai_Deva', 'mxv_Latn', 'mya_Mymr', 'ame_Latn', 'qwh_Latn', 'rup_Latn', 'yor_Latn', 'roh_Latn', 'ssw_Latn', 'lit_Latn', 'cbs_Latn', 'sna_Latn', 'kqs_Latn', 'ron_Latn', 'rar_Latn', 'azj_Cyrl', 'run_Latn', 'uig_Latn', 'hak_Hani', 'prs_Arab', 'xho_Latn', 'wol_Latn', 'als_Latn', 'gug_Latn', 'ton_Latn', 'udu_Latn', 'niv_Cyrl', 'aar_Latn', 'div_Thaa', 'srp_Cyrl', 'zlm_Arab', 'cos_Latn', 'vep_Latn', 'urd_Arab', 'eus_Latn', 'kat_Geor', 'cat_Latn', 'ltz_Latn', 'arn_Latn', 'men_Latn', 'mcd_Latn', 'kri_Latn', 'ike_Cans', 'hsb_Latn', 'cbr_Latn', 'tzm_Tfng', 'ast_Latn', 'fry_Latn', 'gkp_Latn', 'kkh_Lana', 'agr_Latn', 'bum_Latn', 'crh_Latn', 'bre_Latn', 'kng_Latn', 'pcm_Latn', 'top_Latn', 'src_Latn', 'ykg_Cyrl', 'mag_Deva', 'snk_Latn', 'kmr_Latn', 'tur_Latn', 'miq_Latn', 'ndo_Latn', 'cab_Latn', 'orh_Latn', 'lat_Latn', 'cni_Latn', 'ccp_Cakm', 'pap_Latn', 'ace_Latn', 'iii_Yiii', 'tiv_Latn', 'kab_Latn', 'cbi_Latn', 'plt_Latn', 'cot_Latn']\n",
      "Number of languages in UDHR: 430\n",
      "['aii_Syrc', 'sey_Latn', 'gjn_Latn', 'bul_Cyrl', 'swb_Latn', 'mfq_Latn', 'hat_Latn', 'guj_Gujr', 'koo_Latn', 'hye_Armn', 'quh_Latn', 'swe_Latn', 'mam_Latn', 'suk_Latn', 'fkv_Latn', 'qvh_Latn', 'yua_Latn', 'skr_Arab', 'tyv_Cyrl', 'pon_Latn', 'cjk_Latn', 'pcd_Latn', 'amr_Latn', 'kea_Latn', 'ydd_Hebr', 'fon_Latn', 'ddn_Latn', 'cof_Latn', 'arb_Arab', 'ekk_Latn', 'fao_Latn', 'npi_Deva', 'ajg_Latn', 'deu_Latn', 'sin_Sinh', 'loz_Latn', 'vie_Latn', 'sid_Latn', 'yue_Hani', 'gej_Latn', 'por_Latn', 'mcf_Latn', 'mlt_Latn', 'pam_Latn', 'gaz_Latn', 'tsn_Latn', 'quy_Latn', 'ell_Grek', 'nya_Latn', 'ilo_Latn', 'bel_Cyrl', 'nzi_Latn', 'kin_Latn', 'hil_Latn', 'uzn_Latn', 'kqn_Latn', 'ctd_Latn', 'ada_Latn', 'pan_Guru', 'tbz_Latn', 'oss_Cyrl', 'ben_Beng', 'mah_Latn', 'fat_Latn', 'ina_Latn', 'epo_Latn', 'mos_Latn', 'pbb_Latn', 'hus_Latn', 'crs_Latn', 'nso_Latn', 'dzo_Tibt', 'cfm_Latn', 'bcl_Latn', 'chj_Latn', 'fij_Latn', 'isl_Latn', 'sus_Latn', 'pnb_Arab', 'tzo_Latn', 'mor_Latn', 'tso_Latn', 'mnw_Mymr', 'ady_Cyrl', 'tam_Taml', 'lun_Latn', 'bem_Latn', 'boa_Latn', 'fra_Latn', 'taj_Deva', 'nno_Latn', 'ces_Latn', 'mad_Latn', 'lua_Latn', 'sah_Cyrl', 'shn_Mymr', 'san_Deva', 'dyo_Latn', 'ven_Latn', 'kbr_Latn', 'koi_Cyrl', 'tuk_Latn', 'bam_Latn', 'kbp_Latn', 'tpi_Latn', 'bod_Tibt', 'kal_Latn', 'ktu_Latn', 'ibo_Latn', 'kwi_Latn', 'glv_Latn', 'cnr_Latn', 'bci_Latn', 'nld_Latn', 'swh_Latn', 'quc_Latn', 'srr_Latn', 'lug_Latn', 'arl_Latn', 'hun_Latn', 'ita_Latn', 'maz_Latn', 'zgh_Tfng', 'kha_Latn', 'sag_Latn', 'zam_Latn', 'fin_Latn', 'tel_Telu', 'tgk_Cyrl', 'kbd_Cyrl', 'tem_Latn', 'yao_Latn', 'csw_Cans', 'gla_Latn', 'cha_Latn', 'wuu_Hani', 'dyu_Latn', 'umb_Latn', 'cmn_Hani', 'smo_Latn', 'qvc_Latn', 'kor_Hang', 'lia_Latn', 'tob_Latn', 'cjs_Cyrl', 'auc_Latn', 'quz_Latn', 'srp_Latn', 'zdj_Latn', 'hin_Deva', 'kan_Knda', 'yap_Latn', 'toi_Latn', 'fuv_Latn', 'afr_Latn', 'toj_Latn', 'lij_Latn', 'eve_Cyrl', 'jav_Latn', 'hns_Latn', 'kjh_Cyrl', 'qvn_Latn', 'glg_Latn', 'chr_Cher', 'cym_Latn', 'tzh_Latn', 'fur_Latn', 'chv_Cyrl', 'pov_Latn', 'xsm_Latn', 'bos_Latn', 'spa_Latn', 'tah_Latn', 'zyb_Latn', 'dag_Latn', 'tdt_Latn', 'lus_Latn', 'tat_Cyrl', 'lad_Latn', 'hnj_Latn', 'mar_Deva', 'wwa_Latn', 'lin_Latn', 'ura_Latn', 'nob_Latn', 'sun_Latn', 'shp_Latn', 'tir_Ethi', 'ban_Latn', 'tha_Thai', 'ami_Latn', 'yrk_Cyrl', 'bug_Latn', 'mal_Mlym', 'rmn_Latn', 'gaa_Latn', 'haw_Latn', 'lue_Latn', 'acu_Latn', 'nba_Latn', 'qvm_Latn', 'vmw_Latn', 'bho_Deva', 'tuk_Cyrl', 'mkd_Cyrl', 'ojb_Cans', 'kdh_Latn', 'slv_Latn', 'njo_Latn', 'cri_Latn', 'kde_Latn', 'ayr_Latn', 'huu_Latn', 'bis_Latn', 'azj_Latn', 'nds_Latn', 'kek_Latn', 'tly_Latn', 'gle_Latn', 'ese_Latn', 'cpu_Latn', 'knc_Latn', 'lao_Laoo', 'uzn_Cyrl', 'tca_Latn', 'ido_Latn', 'khk_Cyrl', 'cnh_Latn', 'oci_Latn', 'ceb_Latn', 'yad_Latn', 'lld_Latn', 'jpn_Jpan', 'khm_Khmr', 'heb_Hebr', 'abk_Cyrl', 'mri_Latn', 'dan_Latn', 'idu_Latn', 'zul_Latn', 'pis_Latn', 'guu_Latn', 'qva_Latn', 'gag_Latn', 'kmb_Latn', 'guc_Latn', 'tsz_Latn', 'tet_Latn', 'ukr_Cyrl', 'fuf_Latn', 'slk_Latn', 'eng_Latn', 'kaz_Cyrl', 'gyr_Latn', 'min_Latn', 'ote_Latn', 'lob_Latn', 'jav_Java', 'lvs_Latn', 'shk_Latn', 'ewe_Latn', 'rus_Cyrl', 'cak_Latn', 'dje_Latn', 'pol_Latn', 'dga_Latn', 'alt_Cyrl', 'hau_Latn', 'twi_Latn', 'snn_Latn', 'sot_Latn', 'som_Latn', 'pau_Latn', 'nio_Cyrl', 'mic_Latn', 'ind_Latn', 'bin_Latn', 'cbu_Latn', 'nyn_Latn', 'mto_Latn', 'dip_Latn', 'sme_Latn', 'amh_Ethi', 'qxn_Latn', 'kir_Cyrl', 'chk_Latn', 'niu_Latn', 'uig_Arab', 'wln_Latn', 'nan_Hani', 'bba_Latn', 'kaa_Cyrl', 'nav_Latn', 'sco_Latn', 'qug_Latn', 'hlt_Latn', 'nbl_Latn', 'krl_Latn', 'gsw_Latn', 'war_Latn', 'cbt_Latn', 'jiv_Latn', 'vec_Latn', 'hrv_Latn', 'not_Latn', 'mai_Deva', 'mxv_Latn', 'mya_Mymr', 'ame_Latn', 'qwh_Latn', 'rup_Latn', 'yor_Latn', 'roh_Latn', 'ssw_Latn', 'lit_Latn', 'cbs_Latn', 'sna_Latn', 'kqs_Latn', 'ron_Latn', 'rar_Latn', 'azj_Cyrl', 'run_Latn', 'uig_Latn', 'hak_Hani', 'xho_Latn', 'wol_Latn', 'als_Latn', 'gug_Latn', 'ton_Latn', 'udu_Latn', 'div_Thaa', 'srp_Cyrl', 'cos_Latn', 'vep_Latn', 'urd_Arab', 'eus_Latn', 'kat_Geor', 'cat_Latn', 'ltz_Latn', 'arn_Latn', 'men_Latn', 'mcd_Latn', 'kri_Latn', 'ike_Cans', 'hsb_Latn', 'cbr_Latn', 'tzm_Tfng', 'ast_Latn', 'fry_Latn', 'agr_Latn', 'bum_Latn', 'crh_Latn', 'bre_Latn', 'kng_Latn', 'pcm_Latn', 'top_Latn', 'mag_Deva', 'kmr_Latn', 'tur_Latn', 'miq_Latn', 'ndo_Latn', 'cab_Latn', 'lat_Latn', 'cni_Latn', 'pap_Latn', 'ace_Latn', 'tiv_Latn', 'kab_Latn', 'cbi_Latn', 'plt_Latn', 'cot_Latn']\n",
      "Number of languages in the intersection: 371\n"
     ]
    }
   ],
   "source": [
    "# To reproduce prior work, macro averages must be computed on the intersection L = intersection of languages of GlotLID-M and languages present in UDHR\n",
    "\n",
    "# Create a list of GlotLID languages\n",
    "languages_glotlid = pd.read_csv('languages_glotlid.csv', header=None)[0].tolist()\n",
    "print(languages_glotlid)\n",
    "print(f\"Number of languages in GlotLID: {len(languages_glotlid)}\")\n",
    "\n",
    "# Create a list of UDHR languages\n",
    "languages_udhr = list(set(udhr['iso_script']))\n",
    "print(languages_udhr)\n",
    "print(f\"Number of languages in UDHR: {len(languages_udhr)}\")\n",
    "\n",
    "# Get the intersection\n",
    "languages_intersection = list(set(languages_glotlid) & set(languages_udhr))\n",
    "print(languages_intersection)\n",
    "print(f\"Number of languages in the intersection: {len(languages_intersection)}\")"
   ]
  },
  {
   "cell_type": "code",
   "execution_count": 34,
   "id": "5d5d1657",
   "metadata": {},
   "outputs": [
    {
     "name": "stdout",
     "output_type": "stream",
     "text": [
      "        label  f1_score  precision_score  recall_score  false_positive_rate\n",
      "2    aii_Syrc  0.000000         0.000000      0.000000             0.000000\n",
      "4    sey_Latn  0.526316         0.371622      0.901639             0.003358\n",
      "7    gjn_Latn  0.958678         0.950820      0.966667             0.000108\n",
      "9    bul_Cyrl  1.000000         1.000000      1.000000             0.000000\n",
      "11   swb_Latn  0.957265         0.949153      0.965517             0.000108\n",
      "..        ...       ...              ...           ...                  ...\n",
      "742  tiv_Latn  1.000000         1.000000      1.000000             0.000000\n",
      "744  kab_Latn  0.974359         0.966102      0.982759             0.000072\n",
      "746  cbi_Latn  0.991870         1.000000      0.983871             0.000000\n",
      "751  plt_Latn  1.000000         1.000000      1.000000             0.000000\n",
      "752  cot_Latn  0.991597         1.000000      0.983333             0.000000\n",
      "\n",
      "[371 rows x 5 columns]\n",
      "Averaged result DataFrame (computed on languages present in both GlotLID and UDHR datasets):\n",
      "f1_score               0.853798\n",
      "precision_score        0.885193\n",
      "recall_score           0.858401\n",
      "false_positive_rate    0.000171\n",
      "dtype: float64\n"
     ]
    }
   ],
   "source": [
    "# Filter results\n",
    "result_udhr_glotlid_filt = result_udhr_glotlid[result_udhr_glotlid['label'].isin(languages_intersection)]\n",
    "print(result_udhr_glotlid_filt)\n",
    "\n",
    "# Compute the macro averages on the filtered results\n",
    "average_udhr_glotlid_filt = result_udhr_glotlid_filt.drop(columns=['label']).mean()\n",
    "print(\"Averaged result DataFrame (computed on languages present in both GlotLID and UDHR datasets):\")\n",
    "print(average_udhr_glotlid_filt)\n"
   ]
  },
  {
   "cell_type": "markdown",
   "id": "2040e479",
   "metadata": {},
   "source": [
    "## 2. OpenLID on UDHR-LD"
   ]
  },
  {
   "cell_type": "code",
   "execution_count": 93,
   "id": "56de24bd",
   "metadata": {},
   "outputs": [],
   "source": [
    "# Load the model\n",
    "model_path_openlid = hf_hub_download(repo_id=\"laurievb/OpenLID\", filename=\"model.bin\")\n",
    "openlid = fasttext.load_model(model_path_openlid)"
   ]
  },
  {
   "cell_type": "code",
   "execution_count": 94,
   "id": "17160924",
   "metadata": {},
   "outputs": [
    {
     "data": {
      "text/plain": [
       "(('__label__yor_Latn',), array([0.69856358]))"
      ]
     },
     "execution_count": 94,
     "metadata": {},
     "output_type": "execute_result"
    }
   ],
   "source": [
    "# First test\n",
    "openlid.predict(\"Hello, world!\")"
   ]
  },
  {
   "cell_type": "code",
   "execution_count": 96,
   "id": "44aa10ea",
   "metadata": {},
   "outputs": [
    {
     "name": "stdout",
     "output_type": "stream",
     "text": [
      "  iso_script                                           sentence iso639-3  \\\n",
      "0   tir_Ethi  ሕድሕድ ኦብ ስራሕ ዝርከብ ሰብ ሰብኦዊ ክብሩን ክብሪ ቤተሰቡን ዝሕለወሉ ...      tir   \n",
      "1   tir_Ethi  ሕድሕድ ሰብ ከቢድ ስቓይ ዘውርድ፣ ጭካነ ዝመልኦ፣ ኢሰብኦዊ ወይ ሰብኦዊ ...      tir   \n",
      "2   tir_Ethi  ሕድሕድ ሰብ መሰሉን ግቡእን፣ ከምኡ’ውን ንዝቐርበሉ ዝኾነ ይኹን ገበናዊ ...      tir   \n",
      "3   tir_Ethi  ንዓቕመ ኦዳምን ሄዋንን ዝበፅሑ ደቂ ተባዕትዮን ደቂ ኦንስትዮን ዘርኢ፣ ዜ...      tir   \n",
      "4   tir_Ethi                       ሕድሕድ ሰብ ብማሕበር ንኽውደብ ኦይግደድን፡፡      tir   \n",
      "\n",
      "  iso15924  language  top_pred  \n",
      "0     Ethi  Tigrinya  tir_Ethi  \n",
      "1     Ethi  Tigrinya  tir_Ethi  \n",
      "2     Ethi  Tigrinya  tir_Ethi  \n",
      "3     Ethi  Tigrinya  tir_Ethi  \n",
      "4     Ethi  Tigrinya  tir_Ethi  \n"
     ]
    }
   ],
   "source": [
    "# Apply the model to predict labels\n",
    "\n",
    "def get_openlid_pred(x, threshold=0.5):\n",
    "    pred, score = openlid.predict(x)\n",
    "    if score >= threshold:\n",
    "        return pred[0].replace(\"__label__\",\"\")\n",
    "    else:\n",
    "        return 'undetermined'\n",
    "\n",
    "udhr_openlid_pred = pd.DataFrame(udhr)\n",
    "\n",
    "udhr_openlid_pred['top_pred'] = udhr_openlid_pred['sentence'].apply(get_openlid_pred)\n",
    "\n",
    "print(udhr_openlid_pred.head())\n"
   ]
  },
  {
   "cell_type": "code",
   "execution_count": 97,
   "id": "190f2908",
   "metadata": {},
   "outputs": [
    {
     "name": "stdout",
     "output_type": "stream",
     "text": [
      "Result DataFrame:\n",
      "        label  f1_score  precision_score  recall_score  false_positive_rate\n",
      "0    emk_Latn  0.000000         0.000000           0.0             0.000000\n",
      "1    aii_Syrc  0.000000         0.000000           0.0             0.000000\n",
      "2    sey_Latn  0.000000         0.000000           0.0             0.000000\n",
      "3    gjn_Latn  0.000000         0.000000           0.0             0.000000\n",
      "4    bul_Cyrl  0.958678         0.920635           1.0             0.000181\n",
      "..        ...       ...              ...           ...                  ...\n",
      "455  pag_Latn  0.000000         0.000000           0.0             0.001801\n",
      "456  bjn_Arab  0.000000         0.000000           0.0             0.000829\n",
      "457  plt_Latn  0.990654         0.981481           1.0             0.000036\n",
      "458  cot_Latn  0.000000         0.000000           0.0             0.000000\n",
      "459  bak_Cyrl  0.000000         0.000000           0.0             0.002378\n",
      "\n",
      "[460 rows x 5 columns]\n"
     ]
    },
    {
     "name": "stderr",
     "output_type": "stream",
     "text": [
      "/usr/local/lib/python3.12/site-packages/sklearn/metrics/_classification.py:1565: UndefinedMetricWarning: Precision is ill-defined and being set to 0.0 in labels with no predicted samples. Use `zero_division` parameter to control this behavior.\n",
      "  _warn_prf(average, modifier, f\"{metric.capitalize()} is\", len(result))\n",
      "/usr/local/lib/python3.12/site-packages/sklearn/metrics/_classification.py:1565: UndefinedMetricWarning: Recall is ill-defined and being set to 0.0 in labels with no true samples. Use `zero_division` parameter to control this behavior.\n",
      "  _warn_prf(average, modifier, f\"{metric.capitalize()} is\", len(result))\n"
     ]
    }
   ],
   "source": [
    "# Compute F1 and false positive rate\n",
    "result_udhr_openlid = compute_f1_false_positive(udhr_openlid_pred)\n",
    "\n",
    "print(\"Result DataFrame:\")\n",
    "print(result_udhr_openlid)"
   ]
  },
  {
   "cell_type": "code",
   "execution_count": 98,
   "id": "4a14899b",
   "metadata": {},
   "outputs": [
    {
     "name": "stdout",
     "output_type": "stream",
     "text": [
      "Averaged result DataFrame:\n",
      "f1_score               0.254649\n",
      "precision_score        0.231135\n",
      "recall_score           0.319097\n",
      "false_positive_rate    0.001418\n",
      "dtype: float64\n"
     ]
    }
   ],
   "source": [
    "# Compute average results\n",
    "average_udhr_openlid = result_udhr_openlid.drop(columns=['label']).mean()\n",
    "print(\"Averaged result DataFrame:\")\n",
    "print(average_udhr_openlid)"
   ]
  },
  {
   "cell_type": "code",
   "execution_count": 99,
   "id": "3d9292c1",
   "metadata": {},
   "outputs": [
    {
     "name": "stdout",
     "output_type": "stream",
     "text": [
      "['ace_Arab', 'ace_Latn', 'acm_Arab', 'acq_Arab', 'aeb_Arab', 'afr_Latn', 'ajp_Arab', 'amh_Ethi', 'apc_Arab', 'arb_Latn', 'ars_Arab', 'ary_Arab', 'arz_Arab', 'asm_Beng', 'ast_Latn', 'awa_Deva', 'ayr_Latn', 'azb_Arab', 'azj_Latn', 'bak_Cyrl', 'bam_Latn', 'ban_Latn', 'bel_Cyrl', 'bem_Latn', 'ben_Beng', 'bho_Deva', 'bjn_Arab', 'bjn_Latn', 'bod_Tibt', 'bos_Latn', 'bug_Latn', 'bul_Cyrl', 'cat_Latn', 'ceb_Latn', 'ces_Latn', 'cjk_Latn', 'ckb_Arab', 'crh_Latn', 'cym_Latn', 'dan_Latn', 'deu_Latn', 'dik_Latn', 'dyu_Latn', 'dzo_Tibt', 'ell_Grek', 'eng_Latn', 'epo_Latn', 'est_Latn', 'eus_Latn', 'ewe_Latn', 'fao_Latn', 'fij_Latn', 'fin_Latn', 'fon_Latn', 'fra_Latn', 'fur_Latn', 'fuv_Latn', 'gla_Latn', 'gle_Latn', 'glg_Latn', 'grn_Latn', 'guj_Gujr', 'hat_Latn', 'hau_Latn', 'heb_Hebr', 'hin_Deva', 'hne_Deva', 'hrv_Latn', 'hun_Latn', 'hye_Armn', 'ibo_Latn', 'ilo_Latn', 'ind_Latn', 'isl_Latn', 'ita_Latn', 'jav_Latn', 'jpn_Jpan', 'kab_Latn', 'kac_Latn', 'kam_Latn', 'kan_Knda', 'kas_Arab', 'kas_Deva', 'kat_Geor', 'knc_Arab', 'knc_Latn', 'kaz_Cyrl', 'kbp_Latn', 'kea_Latn', 'khm_Khmr', 'kik_Latn', 'kin_Latn', 'kir_Cyrl', 'kmb_Latn', 'kmr_Latn', 'kon_Latn', 'kor_Hang', 'lao_Laoo', 'lij_Latn', 'lim_Latn', 'lin_Latn', 'lit_Latn', 'lmo_Latn', 'ltg_Latn', 'ltz_Latn', 'lua_Latn', 'lug_Latn', 'luo_Latn', 'lus_Latn', 'lvs_Latn', 'mag_Deva', 'mai_Deva', 'mal_Mlym', 'mar_Deva', 'min_Latn', 'mkd_Cyrl', 'plt_Latn', 'mlt_Latn', 'mni_Beng', 'khk_Cyrl', 'mos_Latn', 'mri_Latn', 'mya_Mymr', 'nld_Latn', 'nno_Latn', 'nob_Latn', 'npi_Deva', 'nso_Latn', 'nus_Latn', 'nya_Latn', 'oci_Latn', 'gaz_Latn', 'ory_Orya', 'pag_Latn', 'pan_Guru', 'pap_Latn', 'pes_Arab', 'pol_Latn', 'por_Latn', 'prs_Arab', 'pbt_Arab', 'quy_Latn', 'ron_Latn', 'run_Latn', 'rus_Cyrl', 'sag_Latn', 'san_Deva', 'sat_Olck', 'scn_Latn', 'shn_Mymr', 'sin_Sinh', 'slk_Latn', 'slv_Latn', 'smo_Latn', 'sna_Latn', 'snd_Arab', 'som_Latn', 'sot_Latn', 'spa_Latn', 'als_Latn', 'srd_Latn', 'srp_Cyrl', 'ssw_Latn', 'sun_Latn', 'swe_Latn', 'swh_Latn', 'szl_Latn', 'tam_Taml', 'tat_Cyrl', 'tel_Telu', 'tgk_Cyrl', 'tgl_Latn', 'tha_Thai', 'tir_Ethi', 'taq_Latn', 'taq_Tfng', 'tpi_Latn', 'tsn_Latn', 'tso_Latn', 'tuk_Latn', 'tum_Latn', 'tur_Latn', 'twi_Latn', 'tzm_Tfng', 'uig_Arab', 'ukr_Cyrl', 'umb_Latn', 'urd_Arab', 'uzn_Latn', 'vec_Latn', 'vie_Latn', 'war_Latn', 'wol_Latn', 'xho_Latn', 'ydd_Hebr', 'yor_Latn', 'yue_Hant', 'zho_Hans', 'zho_Hant', 'zsm_Latn', 'zul_Latn']\n",
      "Number of languages in Openlid: 201\n",
      "['emk_Latn', 'aii_Syrc', 'sey_Latn', 'gjn_Latn', 'bul_Cyrl', 'swb_Latn', 'mfq_Latn', 'hat_Latn', 'guj_Gujr', 'koo_Latn', 'hye_Armn', 'quh_Latn', 'swe_Latn', 'mam_Latn', 'suk_Latn', 'fkv_Latn', 'qvh_Latn', 'yua_Latn', 'skr_Arab', 'tyv_Cyrl', 'pon_Latn', 'cjk_Latn', 'pcd_Latn', 'amr_Latn', 'kea_Latn', 'que_Latn', 'guk_Latn', 'ydd_Hebr', 'fon_Latn', 'ddn_Latn', 'cof_Latn', 'arb_Arab', 'ekk_Latn', 'fao_Latn', 'npi_Deva', 'ajg_Latn', 'slr_Latn', 'deu_Latn', 'csa_Latn', 'gld_Cyrl', 'qxu_Latn', 'sin_Sinh', 'loz_Latn', 'vie_Latn', 'sid_Latn', 'yue_Hani', 'gej_Latn', 'ppl_Latn', 'piu_Latn', 'por_Latn', 'mcf_Latn', 'mlt_Latn', 'pam_Latn', 'gaz_Latn', 'tsn_Latn', 'quy_Latn', 'ell_Grek', 'nya_Latn', 'ilo_Latn', 'bel_Cyrl', 'nzi_Latn', 'buc_Latn', 'kin_Latn', 'hil_Latn', 'mxi_Latn', 'uzn_Latn', 'kqn_Latn', 'ctd_Latn', 'ada_Latn', 'pan_Guru', 'tbz_Latn', 'oss_Cyrl', 'ben_Beng', 'mah_Latn', 'tgl_Latn', 'fat_Latn', 'ina_Latn', 'epo_Latn', 'mos_Latn', 'pbb_Latn', 'hus_Latn', 'crs_Latn', 'nso_Latn', 'pes_Arab', 'dzo_Tibt', 'cfm_Latn', 'bcl_Latn', 'chj_Latn', 'fij_Latn', 'isl_Latn', 'sus_Latn', 'pnb_Arab', 'tzo_Latn', 'mor_Latn', 'tso_Latn', 'bos_Cyrl', 'mnw_Mymr', 'ady_Cyrl', 'tam_Taml', 'lun_Latn', 'amc_Latn', 'bem_Latn', 'boa_Latn', 'fra_Latn', 'taj_Deva', 'hms_Latn', 'nno_Latn', 'ces_Latn', 'mad_Latn', 'lua_Latn', 'sah_Cyrl', 'shn_Mymr', 'san_Deva', 'dyo_Latn', 'lns_Latn', 'ven_Latn', 'kbr_Latn', 'koi_Cyrl', 'tuk_Latn', 'bam_Latn', 'kbp_Latn', 'tpi_Latn', 'bod_Tibt', 'kal_Latn', 'ktu_Latn', 'ztu_Latn', 'ibo_Latn', 'kwi_Latn', 'glv_Latn', 'cnr_Latn', 'bci_Latn', 'nld_Latn', 'swh_Latn', 'quc_Latn', 'srr_Latn', 'lug_Latn', 'arl_Latn', 'hun_Latn', 'ita_Latn', 'maz_Latn', 'zgh_Tfng', 'kha_Latn', 'sag_Latn', 'zam_Latn', 'fin_Latn', 'tel_Telu', 'tgk_Cyrl', 'kbd_Cyrl', 'tem_Latn', 'cjy_Hani', 'yao_Latn', 'csw_Cans', 'gla_Latn', 'cha_Latn', 'wuu_Hani', 'dyu_Latn', 'san_Gran', 'ibb_Latn', 'umb_Latn', 'cmn_Hani', 'smo_Latn', 'qvc_Latn', 'kor_Hang', 'lot_Latn', 'lia_Latn', 'tob_Latn', 'cjs_Cyrl', 'auc_Latn', 'quz_Latn', 'srp_Latn', 'cic_Latn', 'zdj_Latn', 'hin_Deva', 'kan_Knda', 'yap_Latn', 'toi_Latn', 'fuv_Latn', 'afr_Latn', 'toj_Latn', 'lij_Latn', 'eve_Cyrl', 'jav_Latn', 'hns_Latn', 'kjh_Cyrl', 'oaa_Cyrl', 'qvn_Latn', 'glg_Latn', 'chr_Cher', 'tgl_Tglg', 'nym_Latn', 'cym_Latn', 'tzh_Latn', 'gan_Hani', 'fur_Latn', 'chv_Cyrl', 'pov_Latn', 'xsm_Latn', 'bos_Latn', 'spa_Latn', 'tah_Latn', 'zyb_Latn', 'dag_Latn', 'tdt_Latn', 'lus_Latn', 'tat_Cyrl', 'lad_Latn', 'hnj_Latn', 'mar_Deva', 'wwa_Latn', 'duu_Latn', 'lin_Latn', 'ura_Latn', 'bfa_Latn', 'sun_Latn', 'nob_Latn', 'shp_Latn', 'tir_Ethi', 'ban_Latn', 'tha_Thai', 'ami_Latn', 'yrk_Cyrl', 'bug_Latn', 'bax_Latn', 'mal_Mlym', 'rmn_Latn', 'gaa_Latn', 'haw_Latn', 'lue_Latn', 'acu_Latn', 'nba_Latn', 'qvm_Latn', 'vmw_Latn', 'bho_Deva', 'tuk_Cyrl', 'hni_Latn', 'mkd_Cyrl', 'ojb_Cans', 'kdh_Latn', 'slv_Latn', 'njo_Latn', 'cri_Latn', 'kde_Latn', 'ayr_Latn', 'huu_Latn', 'bis_Latn', 'azj_Latn', 'nds_Latn', 'vai_Vaii', 'kek_Latn', 'tly_Latn', 'gle_Latn', 'ese_Latn', 'cpu_Latn', 'nhn_Latn', 'knc_Latn', 'lao_Laoo', 'uzn_Cyrl', 'tca_Latn', 'ido_Latn', 'rgn_Latn', 'blt_Tavt', 'hea_Latn', 'khk_Cyrl', 'cnh_Latn', 'oci_Latn', 'zlm_Latn', 'ceb_Latn', 'yad_Latn', 'lld_Latn', 'jpn_Jpan', 'khm_Khmr', 'heb_Hebr', 'abk_Cyrl', 'pbu_Arab', 'mri_Latn', 'dan_Latn', 'idu_Latn', 'zul_Latn', 'pis_Latn', 'guu_Latn', 'qva_Latn', 'gag_Latn', 'kmb_Latn', 'hsn_Hani', 'guc_Latn', 'tsz_Latn', 'tet_Latn', 'ukr_Cyrl', 'fuf_Latn', 'fvr_Latn', 'slk_Latn', 'eng_Latn', 'kaz_Cyrl', 'gyr_Latn', 'min_Latn', 'ote_Latn', 'lob_Latn', 'jav_Java', 'lvs_Latn', 'shk_Latn', 'ewe_Latn', 'fuf_Adlm', 'rus_Cyrl', 'zro_Latn', 'cak_Latn', 'dje_Latn', 'pol_Latn', 'dga_Latn', 'alt_Cyrl', 'hau_Latn', 'twi_Latn', 'snn_Latn', 'sot_Latn', 'mzi_Latn', 'som_Latn', 'pau_Latn', 'nio_Cyrl', 'nku_Latn', 'mic_Latn', 'ind_Latn', 'bin_Latn', 'cbu_Latn', 'nyn_Latn', 'mto_Latn', 'dip_Latn', 'sme_Latn', 'amh_Ethi', 'qxn_Latn', 'kir_Cyrl', 'chk_Latn', 'niu_Latn', 'uig_Arab', 'wln_Latn', 'nan_Hani', 'bba_Latn', 'oki_Latn', 'kaa_Cyrl', 'nav_Latn', 'sco_Latn', 'qug_Latn', 'hlt_Latn', 'ijs_Latn', 'nbl_Latn', 'krl_Latn', 'gsw_Latn', 'war_Latn', 'cbt_Latn', 'evn_Cyrl', 'jiv_Latn', 'vec_Latn', 'hrv_Latn', 'not_Latn', 'mai_Deva', 'mxv_Latn', 'mya_Mymr', 'ame_Latn', 'qwh_Latn', 'rup_Latn', 'yor_Latn', 'roh_Latn', 'ssw_Latn', 'lit_Latn', 'cbs_Latn', 'sna_Latn', 'kqs_Latn', 'ron_Latn', 'rar_Latn', 'azj_Cyrl', 'run_Latn', 'uig_Latn', 'hak_Hani', 'prs_Arab', 'xho_Latn', 'wol_Latn', 'als_Latn', 'gug_Latn', 'ton_Latn', 'udu_Latn', 'niv_Cyrl', 'aar_Latn', 'div_Thaa', 'srp_Cyrl', 'zlm_Arab', 'cos_Latn', 'vep_Latn', 'urd_Arab', 'eus_Latn', 'kat_Geor', 'cat_Latn', 'ltz_Latn', 'arn_Latn', 'men_Latn', 'mcd_Latn', 'kri_Latn', 'ike_Cans', 'hsb_Latn', 'cbr_Latn', 'tzm_Tfng', 'ast_Latn', 'fry_Latn', 'gkp_Latn', 'kkh_Lana', 'agr_Latn', 'bum_Latn', 'crh_Latn', 'bre_Latn', 'kng_Latn', 'pcm_Latn', 'top_Latn', 'src_Latn', 'ykg_Cyrl', 'mag_Deva', 'snk_Latn', 'kmr_Latn', 'tur_Latn', 'miq_Latn', 'ndo_Latn', 'cab_Latn', 'orh_Latn', 'lat_Latn', 'cni_Latn', 'ccp_Cakm', 'pap_Latn', 'ace_Latn', 'iii_Yiii', 'tiv_Latn', 'kab_Latn', 'cbi_Latn', 'plt_Latn', 'cot_Latn']\n",
      "Number of languages in UDHR: 430\n",
      "['ban_Latn', 'tuk_Latn', 'tha_Thai', 'bam_Latn', 'kbp_Latn', 'tpi_Latn', 'bod_Tibt', 'bug_Latn', 'bul_Cyrl', 'amh_Ethi', 'kir_Cyrl', 'hat_Latn', 'guj_Gujr', 'mal_Mlym', 'uig_Arab', 'hye_Armn', 'ibo_Latn', 'swe_Latn', 'bho_Deva', 'mkd_Cyrl', 'nld_Latn', 'cjk_Latn', 'slv_Latn', 'war_Latn', 'vec_Latn', 'ayr_Latn', 'swh_Latn', 'hrv_Latn', 'kea_Latn', 'mai_Deva', 'ydd_Hebr', 'fon_Latn', 'mya_Mymr', 'lug_Latn', 'fao_Latn', 'azj_Latn', 'hun_Latn', 'ita_Latn', 'npi_Deva', 'deu_Latn', 'gle_Latn', 'sag_Latn', 'sin_Sinh', 'fin_Latn', 'tel_Telu', 'knc_Latn', 'tgk_Cyrl', 'vie_Latn', 'yor_Latn', 'lao_Laoo', 'ssw_Latn', 'lit_Latn', 'por_Latn', 'mlt_Latn', 'gla_Latn', 'gaz_Latn', 'sna_Latn', 'tsn_Latn', 'quy_Latn', 'dyu_Latn', 'ron_Latn', 'khk_Cyrl', 'umb_Latn', 'ell_Grek', 'run_Latn', 'nya_Latn', 'bel_Cyrl', 'ilo_Latn', 'oci_Latn', 'prs_Arab', 'ceb_Latn', 'kor_Hang', 'smo_Latn', 'xho_Latn', 'wol_Latn', 'als_Latn', 'jpn_Jpan', 'khm_Khmr', 'heb_Hebr', 'mri_Latn', 'srp_Cyrl', 'kin_Latn', 'dan_Latn', 'zul_Latn', 'uzn_Latn', 'pan_Guru', 'kmb_Latn', 'urd_Arab', 'eus_Latn', 'kat_Geor', 'cat_Latn', 'ltz_Latn', 'hin_Deva', 'ben_Beng', 'kan_Knda', 'fuv_Latn', 'afr_Latn', 'tzm_Tfng', 'ukr_Cyrl', 'ast_Latn', 'tgl_Latn', 'epo_Latn', 'mos_Latn', 'lij_Latn', 'crh_Latn', 'slk_Latn', 'eng_Latn', 'jav_Latn', 'kaz_Cyrl', 'nso_Latn', 'min_Latn', 'pes_Arab', 'lvs_Latn', 'dzo_Tibt', 'glg_Latn', 'ewe_Latn', 'fij_Latn', 'isl_Latn', 'cym_Latn', 'mag_Deva', 'rus_Cyrl', 'kmr_Latn', 'pol_Latn', 'tso_Latn', 'tur_Latn', 'fur_Latn', 'bos_Latn', 'tam_Taml', 'bem_Latn', 'spa_Latn', 'hau_Latn', 'twi_Latn', 'fra_Latn', 'nno_Latn', 'pap_Latn', 'ces_Latn', 'lus_Latn', 'sot_Latn', 'ace_Latn', 'tat_Cyrl', 'lua_Latn', 'kab_Latn', 'som_Latn', 'mar_Deva', 'shn_Mymr', 'san_Deva', 'ind_Latn', 'plt_Latn', 'lin_Latn', 'nob_Latn', 'sun_Latn', 'tir_Ethi']\n",
      "Number of languages in the intersection: 152\n"
     ]
    }
   ],
   "source": [
    "# To reproduce prior work, macro averages must be computed on the intersection L = intersection of languages of Openlid and languages present in UDHR\n",
    "\n",
    "# Create a list of Openlid languages\n",
    "languages_openlid = pd.read_csv('languages_openlid.csv', header=None)[0].tolist()\n",
    "print(languages_openlid)\n",
    "print(f\"Number of languages in Openlid: {len(languages_openlid)}\")\n",
    "\n",
    "# Create a list of UDHR languages\n",
    "languages_udhr = list(set(udhr['iso_script']))\n",
    "print(languages_udhr)\n",
    "print(f\"Number of languages in UDHR: {len(languages_udhr)}\")\n",
    "\n",
    "# Get the intersection\n",
    "languages_intersection = list(set(languages_openlid) & set(languages_udhr))\n",
    "print(languages_intersection)\n",
    "print(f\"Number of languages in the intersection: {len(languages_intersection)}\")"
   ]
  },
  {
   "cell_type": "code",
   "execution_count": 100,
   "id": "face2eda",
   "metadata": {},
   "outputs": [
    {
     "name": "stdout",
     "output_type": "stream",
     "text": [
      "        label  f1_score  precision_score  recall_score  false_positive_rate\n",
      "4    bul_Cyrl  0.958678         0.920635      1.000000             0.000181\n",
      "7    hat_Latn  0.520000         0.351351      1.000000             0.007815\n",
      "8    guj_Gujr  1.000000         1.000000      1.000000             0.000000\n",
      "11   hye_Armn  1.000000         1.000000      1.000000             0.000000\n",
      "13   swe_Latn  0.983871         0.968254      1.000000             0.000072\n",
      "..        ...       ...              ...           ...                  ...\n",
      "441  tur_Latn  0.485597         0.320652      1.000000             0.004513\n",
      "449  pap_Latn  0.607330         0.436090      1.000000             0.002708\n",
      "450  ace_Latn  0.923077         0.869565      0.983607             0.000325\n",
      "453  kab_Latn  0.913386         0.840580      1.000000             0.000397\n",
      "457  plt_Latn  0.990654         0.981481      1.000000             0.000036\n",
      "\n",
      "[152 rows x 5 columns]\n",
      "Averaged result DataFrame (computed on languages present in both Openlid and UDHR datasets):\n",
      "f1_score               0.764420\n",
      "precision_score        0.693029\n",
      "recall_score           0.959676\n",
      "false_positive_rate    0.002039\n",
      "dtype: float64\n"
     ]
    }
   ],
   "source": [
    "# Filter results\n",
    "result_udhr_openlid_filt = result_udhr_openlid[result_udhr_openlid['label'].isin(languages_intersection)]\n",
    "print(result_udhr_openlid_filt)\n",
    "\n",
    "# Compute the macro averages on the filtered results\n",
    "average_udhr_openlid_filt = result_udhr_openlid_filt.drop(columns=['label']).mean()\n",
    "print(\"Averaged result DataFrame (computed on languages present in both Openlid and UDHR datasets):\")\n",
    "print(average_udhr_openlid_filt)\n"
   ]
  },
  {
   "cell_type": "markdown",
   "id": "2cf37739",
   "metadata": {},
   "source": [
    "## TO DO "
   ]
  },
  {
   "cell_type": "markdown",
   "id": "a3e1a8cf",
   "metadata": {},
   "source": [
    "Faire juste : \n",
    "- Tester GlotLID-M / Openlid avec la méthode SET! sur UDHR ?"
   ]
  }
 ],
 "metadata": {
  "kernelspec": {
   "display_name": "Python 3",
   "language": "python",
   "name": "python3"
  },
  "language_info": {
   "codemirror_mode": {
    "name": "ipython",
    "version": 3
   },
   "file_extension": ".py",
   "mimetype": "text/x-python",
   "name": "python",
   "nbconvert_exporter": "python",
   "pygments_lexer": "ipython3",
   "version": "3.12.9"
  }
 },
 "nbformat": 4,
 "nbformat_minor": 5
}
